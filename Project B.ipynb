{
 "cells": [
  {
   "cell_type": "markdown",
   "metadata": {},
   "source": [
    "# Part 1: Strategy Simulation #"
   ]
  },
  {
   "cell_type": "markdown",
   "metadata": {},
   "source": [
    "## Importing the data and required libraries ##"
   ]
  },
  {
   "cell_type": "code",
   "execution_count": 33,
   "metadata": {},
   "outputs": [],
   "source": [
    "import numpy as np\n",
    "import pandas as pd\n",
    "import matplotlib.pyplot as plt\n",
    "import seaborn as sns\n",
    "from sklearn.cluster import DBSCAN\n",
    "from sklearn.ensemble import IsolationForest"
   ]
  },
  {
   "cell_type": "code",
   "execution_count": 2,
   "metadata": {},
   "outputs": [],
   "source": [
    "raw_df = pd.read_csv('/Users/jeremyobadia/Desktop/MFin/MIT Fall Term/Financial Data Science/Data/project_b_data.csv',header=None)"
   ]
  },
  {
   "cell_type": "code",
   "execution_count": 3,
   "metadata": {},
   "outputs": [
    {
     "data": {
      "text/html": [
       "<div>\n",
       "<style scoped>\n",
       "    .dataframe tbody tr th:only-of-type {\n",
       "        vertical-align: middle;\n",
       "    }\n",
       "\n",
       "    .dataframe tbody tr th {\n",
       "        vertical-align: top;\n",
       "    }\n",
       "\n",
       "    .dataframe thead th {\n",
       "        text-align: right;\n",
       "    }\n",
       "</style>\n",
       "<table border=\"1\" class=\"dataframe\">\n",
       "  <thead>\n",
       "    <tr style=\"text-align: right;\">\n",
       "      <th></th>\n",
       "      <th>Date</th>\n",
       "      <th>ID</th>\n",
       "      <th>Return</th>\n",
       "    </tr>\n",
       "  </thead>\n",
       "  <tbody>\n",
       "    <tr>\n",
       "      <td>0</td>\n",
       "      <td>01/02/1990</td>\n",
       "      <td>10137</td>\n",
       "      <td>0.002981</td>\n",
       "    </tr>\n",
       "    <tr>\n",
       "      <td>1</td>\n",
       "      <td>01/02/1990</td>\n",
       "      <td>10225</td>\n",
       "      <td>0.019181</td>\n",
       "    </tr>\n",
       "    <tr>\n",
       "      <td>2</td>\n",
       "      <td>01/02/1990</td>\n",
       "      <td>10401</td>\n",
       "      <td>0.021740</td>\n",
       "    </tr>\n",
       "    <tr>\n",
       "      <td>3</td>\n",
       "      <td>01/02/1990</td>\n",
       "      <td>10488</td>\n",
       "      <td>0.000000</td>\n",
       "    </tr>\n",
       "    <tr>\n",
       "      <td>4</td>\n",
       "      <td>01/02/1990</td>\n",
       "      <td>10516</td>\n",
       "      <td>-0.005420</td>\n",
       "    </tr>\n",
       "  </tbody>\n",
       "</table>\n",
       "</div>"
      ],
      "text/plain": [
       "         Date     ID    Return\n",
       "0  01/02/1990  10137  0.002981\n",
       "1  01/02/1990  10225  0.019181\n",
       "2  01/02/1990  10401  0.021740\n",
       "3  01/02/1990  10488  0.000000\n",
       "4  01/02/1990  10516 -0.005420"
      ]
     },
     "execution_count": 3,
     "metadata": {},
     "output_type": "execute_result"
    }
   ],
   "source": [
    "raw_df= raw_df.rename(columns={0: \"Date\", 1: \"ID\", 2:\"Return\"})\n",
    "raw_df.head()"
   ]
  },
  {
   "cell_type": "markdown",
   "metadata": {},
   "source": [
    "## Annualizing the returns ##"
   ]
  },
  {
   "cell_type": "code",
   "execution_count": 4,
   "metadata": {},
   "outputs": [],
   "source": [
    "raw_df['Return'] = raw_df['Return']*252\n",
    "dates = raw_df['Date'].unique()\n",
    "securities = raw_df['ID'].unique()"
   ]
  },
  {
   "cell_type": "code",
   "execution_count": 5,
   "metadata": {},
   "outputs": [
    {
     "data": {
      "text/html": [
       "<div>\n",
       "<style scoped>\n",
       "    .dataframe tbody tr th:only-of-type {\n",
       "        vertical-align: middle;\n",
       "    }\n",
       "\n",
       "    .dataframe tbody tr th {\n",
       "        vertical-align: top;\n",
       "    }\n",
       "\n",
       "    .dataframe thead th {\n",
       "        text-align: right;\n",
       "    }\n",
       "</style>\n",
       "<table border=\"1\" class=\"dataframe\">\n",
       "  <thead>\n",
       "    <tr style=\"text-align: right;\">\n",
       "      <th></th>\n",
       "      <th>Date</th>\n",
       "      <th>ID</th>\n",
       "      <th>Return</th>\n",
       "    </tr>\n",
       "  </thead>\n",
       "  <tbody>\n",
       "    <tr>\n",
       "      <td>0</td>\n",
       "      <td>01/02/1990</td>\n",
       "      <td>10137</td>\n",
       "      <td>0.751100</td>\n",
       "    </tr>\n",
       "    <tr>\n",
       "      <td>1</td>\n",
       "      <td>01/02/1990</td>\n",
       "      <td>10225</td>\n",
       "      <td>4.833578</td>\n",
       "    </tr>\n",
       "    <tr>\n",
       "      <td>2</td>\n",
       "      <td>01/02/1990</td>\n",
       "      <td>10401</td>\n",
       "      <td>5.478471</td>\n",
       "    </tr>\n",
       "    <tr>\n",
       "      <td>3</td>\n",
       "      <td>01/02/1990</td>\n",
       "      <td>10488</td>\n",
       "      <td>0.000000</td>\n",
       "    </tr>\n",
       "    <tr>\n",
       "      <td>4</td>\n",
       "      <td>01/02/1990</td>\n",
       "      <td>10516</td>\n",
       "      <td>-1.365754</td>\n",
       "    </tr>\n",
       "  </tbody>\n",
       "</table>\n",
       "</div>"
      ],
      "text/plain": [
       "         Date     ID    Return\n",
       "0  01/02/1990  10137  0.751100\n",
       "1  01/02/1990  10225  4.833578\n",
       "2  01/02/1990  10401  5.478471\n",
       "3  01/02/1990  10488  0.000000\n",
       "4  01/02/1990  10516 -1.365754"
      ]
     },
     "execution_count": 5,
     "metadata": {},
     "output_type": "execute_result"
    }
   ],
   "source": [
    "raw_df.head()"
   ]
  },
  {
   "cell_type": "markdown",
   "metadata": {},
   "source": [
    "## Formatting the data ##"
   ]
  },
  {
   "cell_type": "code",
   "execution_count": 7,
   "metadata": {},
   "outputs": [],
   "source": [
    "clean_df = pd.DataFrame(index=raw_df['Date'].unique(), columns = raw_df['ID'].unique())\n",
    "for ID in securities:\n",
    "    clean_df[ID]=raw_df.loc[raw_df['ID'] == ID].reset_index(drop=True)['Return'].values\n"
   ]
  },
  {
   "cell_type": "code",
   "execution_count": 96,
   "metadata": {},
   "outputs": [
    {
     "data": {
      "text/html": [
       "<div>\n",
       "<style scoped>\n",
       "    .dataframe tbody tr th:only-of-type {\n",
       "        vertical-align: middle;\n",
       "    }\n",
       "\n",
       "    .dataframe tbody tr th {\n",
       "        vertical-align: top;\n",
       "    }\n",
       "\n",
       "    .dataframe thead th {\n",
       "        text-align: right;\n",
       "    }\n",
       "</style>\n",
       "<table border=\"1\" class=\"dataframe\">\n",
       "  <thead>\n",
       "    <tr style=\"text-align: right;\">\n",
       "      <th></th>\n",
       "      <th>10137</th>\n",
       "      <th>10225</th>\n",
       "      <th>10401</th>\n",
       "      <th>10488</th>\n",
       "      <th>10516</th>\n",
       "      <th>10656</th>\n",
       "      <th>10866</th>\n",
       "      <th>10890</th>\n",
       "      <th>11308</th>\n",
       "      <th>11404</th>\n",
       "      <th>...</th>\n",
       "      <th>81294</th>\n",
       "      <th>81614</th>\n",
       "      <th>81700</th>\n",
       "      <th>81702</th>\n",
       "      <th>82107</th>\n",
       "      <th>83030</th>\n",
       "      <th>83396</th>\n",
       "      <th>83433</th>\n",
       "      <th>83601</th>\n",
       "      <th>84129</th>\n",
       "    </tr>\n",
       "  </thead>\n",
       "  <tbody>\n",
       "    <tr>\n",
       "      <td>01/02/1990</td>\n",
       "      <td>0.751100</td>\n",
       "      <td>4.833578</td>\n",
       "      <td>5.478471</td>\n",
       "      <td>0.000000</td>\n",
       "      <td>-1.365754</td>\n",
       "      <td>4.235356</td>\n",
       "      <td>5.740450</td>\n",
       "      <td>14.522528</td>\n",
       "      <td>2.434867</td>\n",
       "      <td>1.079270</td>\n",
       "      <td>...</td>\n",
       "      <td>1.916462</td>\n",
       "      <td>3.210356</td>\n",
       "      <td>-8.263019</td>\n",
       "      <td>7.252279</td>\n",
       "      <td>-1.358407</td>\n",
       "      <td>3.315829</td>\n",
       "      <td>0.000000</td>\n",
       "      <td>8.129765</td>\n",
       "      <td>-1.373355</td>\n",
       "      <td>2.260103</td>\n",
       "    </tr>\n",
       "    <tr>\n",
       "      <td>01/03/1990</td>\n",
       "      <td>-0.751070</td>\n",
       "      <td>0.000000</td>\n",
       "      <td>-2.040620</td>\n",
       "      <td>-47.177398</td>\n",
       "      <td>0.000000</td>\n",
       "      <td>-12.925910</td>\n",
       "      <td>11.103107</td>\n",
       "      <td>-6.121759</td>\n",
       "      <td>-3.661062</td>\n",
       "      <td>-4.344931</td>\n",
       "      <td>...</td>\n",
       "      <td>0.000000</td>\n",
       "      <td>3.169796</td>\n",
       "      <td>0.000000</td>\n",
       "      <td>1.780876</td>\n",
       "      <td>0.000000</td>\n",
       "      <td>3.272799</td>\n",
       "      <td>11.201954</td>\n",
       "      <td>-8.129729</td>\n",
       "      <td>2.739167</td>\n",
       "      <td>4.460258</td>\n",
       "    </tr>\n",
       "    <tr>\n",
       "      <td>01/04/1990</td>\n",
       "      <td>-0.753345</td>\n",
       "      <td>-5.722644</td>\n",
       "      <td>-4.131198</td>\n",
       "      <td>53.249868</td>\n",
       "      <td>-1.373355</td>\n",
       "      <td>12.926011</td>\n",
       "      <td>-4.382622</td>\n",
       "      <td>2.057224</td>\n",
       "      <td>-1.232264</td>\n",
       "      <td>-4.421088</td>\n",
       "      <td>...</td>\n",
       "      <td>3.262352</td>\n",
       "      <td>-5.091082</td>\n",
       "      <td>4.165467</td>\n",
       "      <td>5.268544</td>\n",
       "      <td>2.709751</td>\n",
       "      <td>3.230757</td>\n",
       "      <td>-3.678960</td>\n",
       "      <td>0.000000</td>\n",
       "      <td>0.000000</td>\n",
       "      <td>0.000000</td>\n",
       "    </tr>\n",
       "    <tr>\n",
       "      <td>01/05/1990</td>\n",
       "      <td>-2.273690</td>\n",
       "      <td>-1.339152</td>\n",
       "      <td>-4.200116</td>\n",
       "      <td>-12.295109</td>\n",
       "      <td>-11.264485</td>\n",
       "      <td>-12.925910</td>\n",
       "      <td>-1.107703</td>\n",
       "      <td>6.072523</td>\n",
       "      <td>-2.067296</td>\n",
       "      <td>-2.240127</td>\n",
       "      <td>...</td>\n",
       "      <td>0.000000</td>\n",
       "      <td>-6.545816</td>\n",
       "      <td>0.000000</td>\n",
       "      <td>-1.744065</td>\n",
       "      <td>0.000000</td>\n",
       "      <td>-3.230851</td>\n",
       "      <td>-3.733432</td>\n",
       "      <td>0.000000</td>\n",
       "      <td>0.000000</td>\n",
       "      <td>4.382754</td>\n",
       "    </tr>\n",
       "    <tr>\n",
       "      <td>01/08/1990</td>\n",
       "      <td>-3.063972</td>\n",
       "      <td>-5.887167</td>\n",
       "      <td>6.274162</td>\n",
       "      <td>24.018165</td>\n",
       "      <td>2.863774</td>\n",
       "      <td>12.926011</td>\n",
       "      <td>2.210647</td>\n",
       "      <td>-8.129729</td>\n",
       "      <td>5.340101</td>\n",
       "      <td>-4.540627</td>\n",
       "      <td>...</td>\n",
       "      <td>-1.916421</td>\n",
       "      <td>0.000000</td>\n",
       "      <td>-12.708488</td>\n",
       "      <td>-1.755992</td>\n",
       "      <td>0.000000</td>\n",
       "      <td>0.000000</td>\n",
       "      <td>1.873693</td>\n",
       "      <td>-4.165271</td>\n",
       "      <td>0.000000</td>\n",
       "      <td>-4.382622</td>\n",
       "    </tr>\n",
       "  </tbody>\n",
       "</table>\n",
       "<p>5 rows × 690 columns</p>\n",
       "</div>"
      ],
      "text/plain": [
       "               10137     10225     10401      10488      10516      10656  \\\n",
       "01/02/1990  0.751100  4.833578  5.478471   0.000000  -1.365754   4.235356   \n",
       "01/03/1990 -0.751070  0.000000 -2.040620 -47.177398   0.000000 -12.925910   \n",
       "01/04/1990 -0.753345 -5.722644 -4.131198  53.249868  -1.373355  12.926011   \n",
       "01/05/1990 -2.273690 -1.339152 -4.200116 -12.295109 -11.264485 -12.925910   \n",
       "01/08/1990 -3.063972 -5.887167  6.274162  24.018165   2.863774  12.926011   \n",
       "\n",
       "                10866      10890     11308     11404  ...     81294     81614  \\\n",
       "01/02/1990   5.740450  14.522528  2.434867  1.079270  ...  1.916462  3.210356   \n",
       "01/03/1990  11.103107  -6.121759 -3.661062 -4.344931  ...  0.000000  3.169796   \n",
       "01/04/1990  -4.382622   2.057224 -1.232264 -4.421088  ...  3.262352 -5.091082   \n",
       "01/05/1990  -1.107703   6.072523 -2.067296 -2.240127  ...  0.000000 -6.545816   \n",
       "01/08/1990   2.210647  -8.129729  5.340101 -4.540627  ... -1.916421  0.000000   \n",
       "\n",
       "                81700     81702     82107     83030      83396     83433  \\\n",
       "01/02/1990  -8.263019  7.252279 -1.358407  3.315829   0.000000  8.129765   \n",
       "01/03/1990   0.000000  1.780876  0.000000  3.272799  11.201954 -8.129729   \n",
       "01/04/1990   4.165467  5.268544  2.709751  3.230757  -3.678960  0.000000   \n",
       "01/05/1990   0.000000 -1.744065  0.000000 -3.230851  -3.733432  0.000000   \n",
       "01/08/1990 -12.708488 -1.755992  0.000000  0.000000   1.873693 -4.165271   \n",
       "\n",
       "               83601     84129  \n",
       "01/02/1990 -1.373355  2.260103  \n",
       "01/03/1990  2.739167  4.460258  \n",
       "01/04/1990  0.000000  0.000000  \n",
       "01/05/1990  0.000000  4.382754  \n",
       "01/08/1990  0.000000 -4.382622  \n",
       "\n",
       "[5 rows x 690 columns]"
      ]
     },
     "execution_count": 96,
     "metadata": {},
     "output_type": "execute_result"
    }
   ],
   "source": [
    "clean_df.head()"
   ]
  },
  {
   "cell_type": "markdown",
   "metadata": {},
   "source": [
    "## Computing Index Value ##"
   ]
  },
  {
   "cell_type": "code",
   "execution_count": 9,
   "metadata": {},
   "outputs": [
    {
     "data": {
      "text/html": [
       "<div>\n",
       "<style scoped>\n",
       "    .dataframe tbody tr th:only-of-type {\n",
       "        vertical-align: middle;\n",
       "    }\n",
       "\n",
       "    .dataframe tbody tr th {\n",
       "        vertical-align: top;\n",
       "    }\n",
       "\n",
       "    .dataframe thead th {\n",
       "        text-align: right;\n",
       "    }\n",
       "</style>\n",
       "<table border=\"1\" class=\"dataframe\">\n",
       "  <thead>\n",
       "    <tr style=\"text-align: right;\">\n",
       "      <th></th>\n",
       "      <th>Index</th>\n",
       "    </tr>\n",
       "  </thead>\n",
       "  <tbody>\n",
       "    <tr>\n",
       "      <td>01/02/1990</td>\n",
       "      <td>2.811066</td>\n",
       "    </tr>\n",
       "    <tr>\n",
       "      <td>01/03/1990</td>\n",
       "      <td>0.366954</td>\n",
       "    </tr>\n",
       "    <tr>\n",
       "      <td>01/04/1990</td>\n",
       "      <td>-0.839873</td>\n",
       "    </tr>\n",
       "    <tr>\n",
       "      <td>01/05/1990</td>\n",
       "      <td>-0.994850</td>\n",
       "    </tr>\n",
       "    <tr>\n",
       "      <td>01/08/1990</td>\n",
       "      <td>0.278040</td>\n",
       "    </tr>\n",
       "  </tbody>\n",
       "</table>\n",
       "</div>"
      ],
      "text/plain": [
       "               Index\n",
       "01/02/1990  2.811066\n",
       "01/03/1990  0.366954\n",
       "01/04/1990 -0.839873\n",
       "01/05/1990 -0.994850\n",
       "01/08/1990  0.278040"
      ]
     },
     "execution_count": 9,
     "metadata": {},
     "output_type": "execute_result"
    }
   ],
   "source": [
    "index = pd.DataFrame(index = dates, columns = ['Index'])\n",
    "index['Index']=clean_df.sum(axis = 1)/690\n",
    "index.head()"
   ]
  },
  {
   "cell_type": "code",
   "execution_count": 10,
   "metadata": {},
   "outputs": [],
   "source": [
    "index['Dates']=dates"
   ]
  },
  {
   "cell_type": "code",
   "execution_count": 11,
   "metadata": {},
   "outputs": [
    {
     "data": {
      "image/png": "[encoded data removed]",
      "text/plain": [
       "<matplotlib.figure.Figure at 0x113eec2b0>"
      ]
     },
     "metadata": {},
     "output_type": "display_data"
    }
   ],
   "source": [
    "index.plot(x = 'Dates',y = 'Index', figsize = (20,10), grid =True)\n",
    "plt.title('Market index returns over time')\n",
    "plt.xlabel('Months')\n",
    "plt.ylabel('Returns')\n",
    "plt.show()"
   ]
  },
  {
   "cell_type": "markdown",
   "metadata": {},
   "source": [
    "## Computing Signal Values ##"
   ]
  },
  {
   "cell_type": "code",
   "execution_count": 12,
   "metadata": {},
   "outputs": [
    {
     "data": {
      "text/html": [
       "<div>\n",
       "<style scoped>\n",
       "    .dataframe tbody tr th:only-of-type {\n",
       "        vertical-align: middle;\n",
       "    }\n",
       "\n",
       "    .dataframe tbody tr th {\n",
       "        vertical-align: top;\n",
       "    }\n",
       "\n",
       "    .dataframe thead th {\n",
       "        text-align: right;\n",
       "    }\n",
       "</style>\n",
       "<table border=\"1\" class=\"dataframe\">\n",
       "  <thead>\n",
       "    <tr style=\"text-align: right;\">\n",
       "      <th></th>\n",
       "      <th>10137</th>\n",
       "      <th>10225</th>\n",
       "      <th>10401</th>\n",
       "      <th>10488</th>\n",
       "      <th>10516</th>\n",
       "      <th>10656</th>\n",
       "      <th>10866</th>\n",
       "      <th>10890</th>\n",
       "      <th>11308</th>\n",
       "      <th>11404</th>\n",
       "      <th>...</th>\n",
       "      <th>81294</th>\n",
       "      <th>81614</th>\n",
       "      <th>81700</th>\n",
       "      <th>81702</th>\n",
       "      <th>82107</th>\n",
       "      <th>83030</th>\n",
       "      <th>83396</th>\n",
       "      <th>83433</th>\n",
       "      <th>83601</th>\n",
       "      <th>84129</th>\n",
       "    </tr>\n",
       "  </thead>\n",
       "  <tbody>\n",
       "    <tr>\n",
       "      <td>01/02/1990</td>\n",
       "      <td>2.059966</td>\n",
       "      <td>-2.022512</td>\n",
       "      <td>-2.667405</td>\n",
       "      <td>2.811066</td>\n",
       "      <td>4.176820</td>\n",
       "      <td>-1.424290</td>\n",
       "      <td>-2.929384</td>\n",
       "      <td>-11.711463</td>\n",
       "      <td>0.376199</td>\n",
       "      <td>1.731796</td>\n",
       "      <td>...</td>\n",
       "      <td>0.894604</td>\n",
       "      <td>-0.399290</td>\n",
       "      <td>11.074084</td>\n",
       "      <td>-4.441214</td>\n",
       "      <td>4.169473</td>\n",
       "      <td>-0.504763</td>\n",
       "      <td>2.811066</td>\n",
       "      <td>-5.318699</td>\n",
       "      <td>4.184421</td>\n",
       "      <td>0.550963</td>\n",
       "    </tr>\n",
       "    <tr>\n",
       "      <td>01/03/1990</td>\n",
       "      <td>1.118024</td>\n",
       "      <td>0.366954</td>\n",
       "      <td>2.407574</td>\n",
       "      <td>47.544351</td>\n",
       "      <td>0.366954</td>\n",
       "      <td>13.292864</td>\n",
       "      <td>-10.736153</td>\n",
       "      <td>6.488712</td>\n",
       "      <td>4.028015</td>\n",
       "      <td>4.711885</td>\n",
       "      <td>...</td>\n",
       "      <td>0.366954</td>\n",
       "      <td>-2.802843</td>\n",
       "      <td>0.366954</td>\n",
       "      <td>-1.413923</td>\n",
       "      <td>0.366954</td>\n",
       "      <td>-2.905846</td>\n",
       "      <td>-10.835000</td>\n",
       "      <td>8.496683</td>\n",
       "      <td>-2.372213</td>\n",
       "      <td>-4.093304</td>\n",
       "    </tr>\n",
       "    <tr>\n",
       "      <td>01/04/1990</td>\n",
       "      <td>-0.086528</td>\n",
       "      <td>4.882771</td>\n",
       "      <td>3.291325</td>\n",
       "      <td>-54.089741</td>\n",
       "      <td>0.533483</td>\n",
       "      <td>-13.765884</td>\n",
       "      <td>3.542749</td>\n",
       "      <td>-2.897097</td>\n",
       "      <td>0.392391</td>\n",
       "      <td>3.581215</td>\n",
       "      <td>...</td>\n",
       "      <td>-4.102225</td>\n",
       "      <td>4.251209</td>\n",
       "      <td>-5.005340</td>\n",
       "      <td>-6.108417</td>\n",
       "      <td>-3.549624</td>\n",
       "      <td>-4.070630</td>\n",
       "      <td>2.839087</td>\n",
       "      <td>-0.839873</td>\n",
       "      <td>-0.839873</td>\n",
       "      <td>-0.839873</td>\n",
       "    </tr>\n",
       "    <tr>\n",
       "      <td>01/05/1990</td>\n",
       "      <td>1.278840</td>\n",
       "      <td>0.344302</td>\n",
       "      <td>3.205266</td>\n",
       "      <td>11.300258</td>\n",
       "      <td>10.269635</td>\n",
       "      <td>11.931060</td>\n",
       "      <td>0.112853</td>\n",
       "      <td>-7.067373</td>\n",
       "      <td>1.072446</td>\n",
       "      <td>1.245277</td>\n",
       "      <td>...</td>\n",
       "      <td>-0.994850</td>\n",
       "      <td>5.550966</td>\n",
       "      <td>-0.994850</td>\n",
       "      <td>0.749215</td>\n",
       "      <td>-0.994850</td>\n",
       "      <td>2.236001</td>\n",
       "      <td>2.738581</td>\n",
       "      <td>-0.994850</td>\n",
       "      <td>-0.994850</td>\n",
       "      <td>-5.377604</td>\n",
       "    </tr>\n",
       "    <tr>\n",
       "      <td>01/08/1990</td>\n",
       "      <td>3.342012</td>\n",
       "      <td>6.165207</td>\n",
       "      <td>-5.996122</td>\n",
       "      <td>-23.740125</td>\n",
       "      <td>-2.585734</td>\n",
       "      <td>-12.647971</td>\n",
       "      <td>-1.932607</td>\n",
       "      <td>8.407769</td>\n",
       "      <td>-5.062061</td>\n",
       "      <td>4.818667</td>\n",
       "      <td>...</td>\n",
       "      <td>2.194461</td>\n",
       "      <td>0.278040</td>\n",
       "      <td>12.986529</td>\n",
       "      <td>2.034032</td>\n",
       "      <td>0.278040</td>\n",
       "      <td>0.278040</td>\n",
       "      <td>-1.595653</td>\n",
       "      <td>4.443311</td>\n",
       "      <td>0.278040</td>\n",
       "      <td>4.660662</td>\n",
       "    </tr>\n",
       "  </tbody>\n",
       "</table>\n",
       "<p>5 rows × 690 columns</p>\n",
       "</div>"
      ],
      "text/plain": [
       "               10137     10225     10401      10488      10516      10656  \\\n",
       "01/02/1990  2.059966 -2.022512 -2.667405   2.811066   4.176820  -1.424290   \n",
       "01/03/1990  1.118024  0.366954  2.407574  47.544351   0.366954  13.292864   \n",
       "01/04/1990 -0.086528  4.882771  3.291325 -54.089741   0.533483 -13.765884   \n",
       "01/05/1990  1.278840  0.344302  3.205266  11.300258  10.269635  11.931060   \n",
       "01/08/1990  3.342012  6.165207 -5.996122 -23.740125  -2.585734 -12.647971   \n",
       "\n",
       "                10866      10890     11308     11404  ...     81294     81614  \\\n",
       "01/02/1990  -2.929384 -11.711463  0.376199  1.731796  ...  0.894604 -0.399290   \n",
       "01/03/1990 -10.736153   6.488712  4.028015  4.711885  ...  0.366954 -2.802843   \n",
       "01/04/1990   3.542749  -2.897097  0.392391  3.581215  ... -4.102225  4.251209   \n",
       "01/05/1990   0.112853  -7.067373  1.072446  1.245277  ... -0.994850  5.550966   \n",
       "01/08/1990  -1.932607   8.407769 -5.062061  4.818667  ...  2.194461  0.278040   \n",
       "\n",
       "                81700     81702     82107     83030      83396     83433  \\\n",
       "01/02/1990  11.074084 -4.441214  4.169473 -0.504763   2.811066 -5.318699   \n",
       "01/03/1990   0.366954 -1.413923  0.366954 -2.905846 -10.835000  8.496683   \n",
       "01/04/1990  -5.005340 -6.108417 -3.549624 -4.070630   2.839087 -0.839873   \n",
       "01/05/1990  -0.994850  0.749215 -0.994850  2.236001   2.738581 -0.994850   \n",
       "01/08/1990  12.986529  2.034032  0.278040  0.278040  -1.595653  4.443311   \n",
       "\n",
       "               83601     84129  \n",
       "01/02/1990  4.184421  0.550963  \n",
       "01/03/1990 -2.372213 -4.093304  \n",
       "01/04/1990 -0.839873 -0.839873  \n",
       "01/05/1990 -0.994850 -5.377604  \n",
       "01/08/1990  0.278040  4.660662  \n",
       "\n",
       "[5 rows x 690 columns]"
      ]
     },
     "execution_count": 12,
     "metadata": {},
     "output_type": "execute_result"
    }
   ],
   "source": [
    "signal_df = pd.DataFrame(index=dates, columns = securities)\n",
    "for ID in securities:\n",
    "    signal_df[ID]= - (clean_df[ID]-index['Index'])\n",
    "signal_df.head()"
   ]
  },
  {
   "cell_type": "markdown",
   "metadata": {},
   "source": [
    "## Finding signals to short and buy at each day ##"
   ]
  },
  {
   "cell_type": "code",
   "execution_count": 14,
   "metadata": {},
   "outputs": [
    {
     "data": {
      "text/html": [
       "<div>\n",
       "<style scoped>\n",
       "    .dataframe tbody tr th:only-of-type {\n",
       "        vertical-align: middle;\n",
       "    }\n",
       "\n",
       "    .dataframe tbody tr th {\n",
       "        vertical-align: top;\n",
       "    }\n",
       "\n",
       "    .dataframe thead th {\n",
       "        text-align: right;\n",
       "    }\n",
       "</style>\n",
       "<table border=\"1\" class=\"dataframe\">\n",
       "  <thead>\n",
       "    <tr style=\"text-align: right;\">\n",
       "      <th></th>\n",
       "      <th>01/02/1990</th>\n",
       "      <th>01/03/1990</th>\n",
       "      <th>01/04/1990</th>\n",
       "      <th>01/05/1990</th>\n",
       "      <th>01/08/1990</th>\n",
       "      <th>01/09/1990</th>\n",
       "      <th>01/10/1990</th>\n",
       "      <th>01/11/1990</th>\n",
       "      <th>01/12/1990</th>\n",
       "      <th>01/15/1990</th>\n",
       "      <th>...</th>\n",
       "      <th>12/17/2001</th>\n",
       "      <th>12/18/2001</th>\n",
       "      <th>12/19/2001</th>\n",
       "      <th>12/20/2001</th>\n",
       "      <th>12/21/2001</th>\n",
       "      <th>12/24/2001</th>\n",
       "      <th>12/26/2001</th>\n",
       "      <th>12/27/2001</th>\n",
       "      <th>12/28/2001</th>\n",
       "      <th>12/31/2001</th>\n",
       "    </tr>\n",
       "  </thead>\n",
       "  <tbody>\n",
       "    <tr>\n",
       "      <td>10137</td>\n",
       "      <td>2.059966</td>\n",
       "      <td>1.118024</td>\n",
       "      <td>-0.086528</td>\n",
       "      <td>1.278840</td>\n",
       "      <td>3.342012</td>\n",
       "      <td>-2.006397</td>\n",
       "      <td>-2.340138</td>\n",
       "      <td>-0.415896</td>\n",
       "      <td>-2.404045</td>\n",
       "      <td>3.159327</td>\n",
       "      <td>...</td>\n",
       "      <td>11.686976</td>\n",
       "      <td>-2.219617</td>\n",
       "      <td>-8.655285</td>\n",
       "      <td>-0.175703</td>\n",
       "      <td>1.855964</td>\n",
       "      <td>-3.133109</td>\n",
       "      <td>-1.401003</td>\n",
       "      <td>-2.076949</td>\n",
       "      <td>5.298307</td>\n",
       "      <td>-3.510877</td>\n",
       "    </tr>\n",
       "    <tr>\n",
       "      <td>10225</td>\n",
       "      <td>-2.022512</td>\n",
       "      <td>0.366954</td>\n",
       "      <td>4.882771</td>\n",
       "      <td>0.344302</td>\n",
       "      <td>6.165207</td>\n",
       "      <td>5.731300</td>\n",
       "      <td>2.702245</td>\n",
       "      <td>-0.607265</td>\n",
       "      <td>-0.373086</td>\n",
       "      <td>-3.263157</td>\n",
       "      <td>...</td>\n",
       "      <td>3.034602</td>\n",
       "      <td>0.250303</td>\n",
       "      <td>-1.902353</td>\n",
       "      <td>-2.386902</td>\n",
       "      <td>3.168028</td>\n",
       "      <td>2.497193</td>\n",
       "      <td>-0.584980</td>\n",
       "      <td>1.768106</td>\n",
       "      <td>-0.091606</td>\n",
       "      <td>3.484382</td>\n",
       "    </tr>\n",
       "    <tr>\n",
       "      <td>10401</td>\n",
       "      <td>-2.667405</td>\n",
       "      <td>2.407574</td>\n",
       "      <td>3.291325</td>\n",
       "      <td>3.205266</td>\n",
       "      <td>-5.996122</td>\n",
       "      <td>1.532312</td>\n",
       "      <td>-0.176799</td>\n",
       "      <td>3.873583</td>\n",
       "      <td>1.765629</td>\n",
       "      <td>1.374405</td>\n",
       "      <td>...</td>\n",
       "      <td>-11.585377</td>\n",
       "      <td>8.272234</td>\n",
       "      <td>-2.079987</td>\n",
       "      <td>-17.036601</td>\n",
       "      <td>-4.672938</td>\n",
       "      <td>0.729528</td>\n",
       "      <td>2.307924</td>\n",
       "      <td>5.202122</td>\n",
       "      <td>-2.453543</td>\n",
       "      <td>0.688290</td>\n",
       "    </tr>\n",
       "    <tr>\n",
       "      <td>10488</td>\n",
       "      <td>2.811066</td>\n",
       "      <td>47.544351</td>\n",
       "      <td>-54.089741</td>\n",
       "      <td>11.300258</td>\n",
       "      <td>-23.740125</td>\n",
       "      <td>-1.236957</td>\n",
       "      <td>-1.572959</td>\n",
       "      <td>0.349022</td>\n",
       "      <td>-4.705454</td>\n",
       "      <td>-2.293816</td>\n",
       "      <td>...</td>\n",
       "      <td>2.350423</td>\n",
       "      <td>-6.144151</td>\n",
       "      <td>-2.710815</td>\n",
       "      <td>-13.002606</td>\n",
       "      <td>3.206722</td>\n",
       "      <td>0.729528</td>\n",
       "      <td>-2.721584</td>\n",
       "      <td>0.384996</td>\n",
       "      <td>-21.437576</td>\n",
       "      <td>-27.242427</td>\n",
       "    </tr>\n",
       "    <tr>\n",
       "      <td>10516</td>\n",
       "      <td>4.176820</td>\n",
       "      <td>0.366954</td>\n",
       "      <td>0.533483</td>\n",
       "      <td>10.269635</td>\n",
       "      <td>-2.585734</td>\n",
       "      <td>-1.236957</td>\n",
       "      <td>2.734799</td>\n",
       "      <td>-2.530946</td>\n",
       "      <td>1.087834</td>\n",
       "      <td>-3.754701</td>\n",
       "      <td>...</td>\n",
       "      <td>2.459737</td>\n",
       "      <td>4.271688</td>\n",
       "      <td>3.632111</td>\n",
       "      <td>-1.411448</td>\n",
       "      <td>6.146798</td>\n",
       "      <td>-4.690004</td>\n",
       "      <td>3.888393</td>\n",
       "      <td>-2.850151</td>\n",
       "      <td>6.383607</td>\n",
       "      <td>-0.218268</td>\n",
       "    </tr>\n",
       "  </tbody>\n",
       "</table>\n",
       "<p>5 rows × 3028 columns</p>\n",
       "</div>"
      ],
      "text/plain": [
       "       01/02/1990  01/03/1990  01/04/1990  01/05/1990  01/08/1990  01/09/1990  \\\n",
       "10137    2.059966    1.118024   -0.086528    1.278840    3.342012   -2.006397   \n",
       "10225   -2.022512    0.366954    4.882771    0.344302    6.165207    5.731300   \n",
       "10401   -2.667405    2.407574    3.291325    3.205266   -5.996122    1.532312   \n",
       "10488    2.811066   47.544351  -54.089741   11.300258  -23.740125   -1.236957   \n",
       "10516    4.176820    0.366954    0.533483   10.269635   -2.585734   -1.236957   \n",
       "\n",
       "       01/10/1990  01/11/1990  01/12/1990  01/15/1990  ...  12/17/2001  \\\n",
       "10137   -2.340138   -0.415896   -2.404045    3.159327  ...   11.686976   \n",
       "10225    2.702245   -0.607265   -0.373086   -3.263157  ...    3.034602   \n",
       "10401   -0.176799    3.873583    1.765629    1.374405  ...  -11.585377   \n",
       "10488   -1.572959    0.349022   -4.705454   -2.293816  ...    2.350423   \n",
       "10516    2.734799   -2.530946    1.087834   -3.754701  ...    2.459737   \n",
       "\n",
       "       12/18/2001  12/19/2001  12/20/2001  12/21/2001  12/24/2001  12/26/2001  \\\n",
       "10137   -2.219617   -8.655285   -0.175703    1.855964   -3.133109   -1.401003   \n",
       "10225    0.250303   -1.902353   -2.386902    3.168028    2.497193   -0.584980   \n",
       "10401    8.272234   -2.079987  -17.036601   -4.672938    0.729528    2.307924   \n",
       "10488   -6.144151   -2.710815  -13.002606    3.206722    0.729528   -2.721584   \n",
       "10516    4.271688    3.632111   -1.411448    6.146798   -4.690004    3.888393   \n",
       "\n",
       "       12/27/2001  12/28/2001  12/31/2001  \n",
       "10137   -2.076949    5.298307   -3.510877  \n",
       "10225    1.768106   -0.091606    3.484382  \n",
       "10401    5.202122   -2.453543    0.688290  \n",
       "10488    0.384996  -21.437576  -27.242427  \n",
       "10516   -2.850151    6.383607   -0.218268  \n",
       "\n",
       "[5 rows x 3028 columns]"
      ]
     },
     "execution_count": 14,
     "metadata": {},
     "output_type": "execute_result"
    }
   ],
   "source": [
    "signal_df_T = signal_df.T\n",
    "signal_df_T.head()"
   ]
  },
  {
   "cell_type": "markdown",
   "metadata": {},
   "source": [
    "## Computing portfolio ##"
   ]
  },
  {
   "cell_type": "code",
   "execution_count": 16,
   "metadata": {},
   "outputs": [],
   "source": [
    "long = ['Long']*69\n",
    "short = ['Short']*69\n",
    "no_weight = ['0']*552\n",
    "index_sl=no_weight+long+short\n"
   ]
  },
  {
   "cell_type": "markdown",
   "metadata": {},
   "source": [
    "#### Takes some time to run ####"
   ]
  },
  {
   "cell_type": "code",
   "execution_count": 17,
   "metadata": {},
   "outputs": [
    {
     "data": {
      "text/html": [
       "<div>\n",
       "<style scoped>\n",
       "    .dataframe tbody tr th:only-of-type {\n",
       "        vertical-align: middle;\n",
       "    }\n",
       "\n",
       "    .dataframe tbody tr th {\n",
       "        vertical-align: top;\n",
       "    }\n",
       "\n",
       "    .dataframe thead th {\n",
       "        text-align: right;\n",
       "    }\n",
       "</style>\n",
       "<table border=\"1\" class=\"dataframe\">\n",
       "  <thead>\n",
       "    <tr style=\"text-align: right;\">\n",
       "      <th></th>\n",
       "      <th>01/02/1990</th>\n",
       "      <th>01/03/1990</th>\n",
       "      <th>01/04/1990</th>\n",
       "      <th>01/05/1990</th>\n",
       "      <th>01/08/1990</th>\n",
       "      <th>01/09/1990</th>\n",
       "      <th>01/10/1990</th>\n",
       "      <th>01/11/1990</th>\n",
       "      <th>01/12/1990</th>\n",
       "      <th>01/15/1990</th>\n",
       "      <th>...</th>\n",
       "      <th>12/17/2001</th>\n",
       "      <th>12/18/2001</th>\n",
       "      <th>12/19/2001</th>\n",
       "      <th>12/20/2001</th>\n",
       "      <th>12/21/2001</th>\n",
       "      <th>12/24/2001</th>\n",
       "      <th>12/26/2001</th>\n",
       "      <th>12/27/2001</th>\n",
       "      <th>12/28/2001</th>\n",
       "      <th>12/31/2001</th>\n",
       "    </tr>\n",
       "  </thead>\n",
       "  <tbody>\n",
       "    <tr>\n",
       "      <td>0</td>\n",
       "      <td>10137</td>\n",
       "      <td>10137</td>\n",
       "      <td>10137</td>\n",
       "      <td>10137</td>\n",
       "      <td>10137</td>\n",
       "      <td>10137</td>\n",
       "      <td>10137</td>\n",
       "      <td>10137</td>\n",
       "      <td>10137</td>\n",
       "      <td>10137</td>\n",
       "      <td>...</td>\n",
       "      <td>10225</td>\n",
       "      <td>10137</td>\n",
       "      <td>10225</td>\n",
       "      <td>10137</td>\n",
       "      <td>10137</td>\n",
       "      <td>10137</td>\n",
       "      <td>10137</td>\n",
       "      <td>10137</td>\n",
       "      <td>10137</td>\n",
       "      <td>10137</td>\n",
       "    </tr>\n",
       "    <tr>\n",
       "      <td>0</td>\n",
       "      <td>10225</td>\n",
       "      <td>10225</td>\n",
       "      <td>10225</td>\n",
       "      <td>10225</td>\n",
       "      <td>10516</td>\n",
       "      <td>10225</td>\n",
       "      <td>10225</td>\n",
       "      <td>10225</td>\n",
       "      <td>10225</td>\n",
       "      <td>10225</td>\n",
       "      <td>...</td>\n",
       "      <td>10488</td>\n",
       "      <td>10225</td>\n",
       "      <td>10401</td>\n",
       "      <td>10225</td>\n",
       "      <td>10225</td>\n",
       "      <td>10225</td>\n",
       "      <td>10225</td>\n",
       "      <td>10225</td>\n",
       "      <td>10225</td>\n",
       "      <td>10225</td>\n",
       "    </tr>\n",
       "    <tr>\n",
       "      <td>0</td>\n",
       "      <td>10401</td>\n",
       "      <td>10401</td>\n",
       "      <td>10401</td>\n",
       "      <td>10401</td>\n",
       "      <td>10866</td>\n",
       "      <td>10401</td>\n",
       "      <td>10401</td>\n",
       "      <td>10401</td>\n",
       "      <td>10401</td>\n",
       "      <td>10401</td>\n",
       "      <td>...</td>\n",
       "      <td>10516</td>\n",
       "      <td>10488</td>\n",
       "      <td>10488</td>\n",
       "      <td>10516</td>\n",
       "      <td>10401</td>\n",
       "      <td>10401</td>\n",
       "      <td>10401</td>\n",
       "      <td>10488</td>\n",
       "      <td>10401</td>\n",
       "      <td>10401</td>\n",
       "    </tr>\n",
       "    <tr>\n",
       "      <td>0</td>\n",
       "      <td>10488</td>\n",
       "      <td>10516</td>\n",
       "      <td>10516</td>\n",
       "      <td>10866</td>\n",
       "      <td>11308</td>\n",
       "      <td>10488</td>\n",
       "      <td>10488</td>\n",
       "      <td>10488</td>\n",
       "      <td>10516</td>\n",
       "      <td>10488</td>\n",
       "      <td>...</td>\n",
       "      <td>10866</td>\n",
       "      <td>10516</td>\n",
       "      <td>10516</td>\n",
       "      <td>10890</td>\n",
       "      <td>10488</td>\n",
       "      <td>10488</td>\n",
       "      <td>10488</td>\n",
       "      <td>10516</td>\n",
       "      <td>10656</td>\n",
       "      <td>10516</td>\n",
       "    </tr>\n",
       "    <tr>\n",
       "      <td>0</td>\n",
       "      <td>10516</td>\n",
       "      <td>11308</td>\n",
       "      <td>10866</td>\n",
       "      <td>11308</td>\n",
       "      <td>11404</td>\n",
       "      <td>10516</td>\n",
       "      <td>10516</td>\n",
       "      <td>10516</td>\n",
       "      <td>10656</td>\n",
       "      <td>10516</td>\n",
       "      <td>...</td>\n",
       "      <td>11308</td>\n",
       "      <td>10866</td>\n",
       "      <td>10866</td>\n",
       "      <td>11308</td>\n",
       "      <td>10516</td>\n",
       "      <td>10516</td>\n",
       "      <td>10516</td>\n",
       "      <td>10656</td>\n",
       "      <td>10890</td>\n",
       "      <td>10656</td>\n",
       "    </tr>\n",
       "    <tr>\n",
       "      <td>...</td>\n",
       "      <td>...</td>\n",
       "      <td>...</td>\n",
       "      <td>...</td>\n",
       "      <td>...</td>\n",
       "      <td>...</td>\n",
       "      <td>...</td>\n",
       "      <td>...</td>\n",
       "      <td>...</td>\n",
       "      <td>...</td>\n",
       "      <td>...</td>\n",
       "      <td>...</td>\n",
       "      <td>...</td>\n",
       "      <td>...</td>\n",
       "      <td>...</td>\n",
       "      <td>...</td>\n",
       "      <td>...</td>\n",
       "      <td>...</td>\n",
       "      <td>...</td>\n",
       "      <td>...</td>\n",
       "      <td>...</td>\n",
       "      <td>...</td>\n",
       "    </tr>\n",
       "    <tr>\n",
       "      <td>Short</td>\n",
       "      <td>23915</td>\n",
       "      <td>18681</td>\n",
       "      <td>44951</td>\n",
       "      <td>37875</td>\n",
       "      <td>53866</td>\n",
       "      <td>27705</td>\n",
       "      <td>37568</td>\n",
       "      <td>27713</td>\n",
       "      <td>20053</td>\n",
       "      <td>64020</td>\n",
       "      <td>...</td>\n",
       "      <td>47888</td>\n",
       "      <td>60628</td>\n",
       "      <td>35991</td>\n",
       "      <td>64282</td>\n",
       "      <td>54675</td>\n",
       "      <td>38295</td>\n",
       "      <td>60628</td>\n",
       "      <td>15203</td>\n",
       "      <td>50788</td>\n",
       "      <td>24256</td>\n",
       "    </tr>\n",
       "    <tr>\n",
       "      <td>Short</td>\n",
       "      <td>48485</td>\n",
       "      <td>48389</td>\n",
       "      <td>24441</td>\n",
       "      <td>40440</td>\n",
       "      <td>61313</td>\n",
       "      <td>27764</td>\n",
       "      <td>47466</td>\n",
       "      <td>20694</td>\n",
       "      <td>21776</td>\n",
       "      <td>14702</td>\n",
       "      <td>...</td>\n",
       "      <td>45241</td>\n",
       "      <td>12060</td>\n",
       "      <td>44150</td>\n",
       "      <td>66078</td>\n",
       "      <td>73139</td>\n",
       "      <td>26382</td>\n",
       "      <td>40061</td>\n",
       "      <td>35124</td>\n",
       "      <td>36468</td>\n",
       "      <td>19596</td>\n",
       "    </tr>\n",
       "    <tr>\n",
       "      <td>Short</td>\n",
       "      <td>42550</td>\n",
       "      <td>19895</td>\n",
       "      <td>32651</td>\n",
       "      <td>27254</td>\n",
       "      <td>51086</td>\n",
       "      <td>38333</td>\n",
       "      <td>64020</td>\n",
       "      <td>61209</td>\n",
       "      <td>22753</td>\n",
       "      <td>38333</td>\n",
       "      <td>...</td>\n",
       "      <td>30940</td>\n",
       "      <td>12650</td>\n",
       "      <td>55511</td>\n",
       "      <td>29946</td>\n",
       "      <td>11691</td>\n",
       "      <td>42550</td>\n",
       "      <td>14219</td>\n",
       "      <td>74908</td>\n",
       "      <td>58675</td>\n",
       "      <td>38172</td>\n",
       "    </tr>\n",
       "    <tr>\n",
       "      <td>Short</td>\n",
       "      <td>48725</td>\n",
       "      <td>58819</td>\n",
       "      <td>62907</td>\n",
       "      <td>46149</td>\n",
       "      <td>63715</td>\n",
       "      <td>50497</td>\n",
       "      <td>17137</td>\n",
       "      <td>37875</td>\n",
       "      <td>24248</td>\n",
       "      <td>55467</td>\n",
       "      <td>...</td>\n",
       "      <td>17750</td>\n",
       "      <td>50606</td>\n",
       "      <td>49373</td>\n",
       "      <td>28840</td>\n",
       "      <td>63781</td>\n",
       "      <td>76946</td>\n",
       "      <td>64282</td>\n",
       "      <td>17961</td>\n",
       "      <td>39765</td>\n",
       "      <td>26112</td>\n",
       "    </tr>\n",
       "    <tr>\n",
       "      <td>Short</td>\n",
       "      <td>38420</td>\n",
       "      <td>58406</td>\n",
       "      <td>60442</td>\n",
       "      <td>21020</td>\n",
       "      <td>32707</td>\n",
       "      <td>58501</td>\n",
       "      <td>19393</td>\n",
       "      <td>53859</td>\n",
       "      <td>24360</td>\n",
       "      <td>52792</td>\n",
       "      <td>...</td>\n",
       "      <td>24256</td>\n",
       "      <td>50905</td>\n",
       "      <td>24109</td>\n",
       "      <td>51457</td>\n",
       "      <td>50550</td>\n",
       "      <td>63686</td>\n",
       "      <td>30761</td>\n",
       "      <td>46295</td>\n",
       "      <td>21020</td>\n",
       "      <td>56952</td>\n",
       "    </tr>\n",
       "  </tbody>\n",
       "</table>\n",
       "<p>690 rows × 3028 columns</p>\n",
       "</div>"
      ],
      "text/plain": [
       "       01/02/1990  01/03/1990  01/04/1990  01/05/1990  01/08/1990  01/09/1990  \\\n",
       "0           10137       10137       10137       10137       10137       10137   \n",
       "0           10225       10225       10225       10225       10516       10225   \n",
       "0           10401       10401       10401       10401       10866       10401   \n",
       "0           10488       10516       10516       10866       11308       10488   \n",
       "0           10516       11308       10866       11308       11404       10516   \n",
       "...           ...         ...         ...         ...         ...         ...   \n",
       "Short       23915       18681       44951       37875       53866       27705   \n",
       "Short       48485       48389       24441       40440       61313       27764   \n",
       "Short       42550       19895       32651       27254       51086       38333   \n",
       "Short       48725       58819       62907       46149       63715       50497   \n",
       "Short       38420       58406       60442       21020       32707       58501   \n",
       "\n",
       "       01/10/1990  01/11/1990  01/12/1990  01/15/1990  ...  12/17/2001  \\\n",
       "0           10137       10137       10137       10137  ...       10225   \n",
       "0           10225       10225       10225       10225  ...       10488   \n",
       "0           10401       10401       10401       10401  ...       10516   \n",
       "0           10488       10488       10516       10488  ...       10866   \n",
       "0           10516       10516       10656       10516  ...       11308   \n",
       "...           ...         ...         ...         ...  ...         ...   \n",
       "Short       37568       27713       20053       64020  ...       47888   \n",
       "Short       47466       20694       21776       14702  ...       45241   \n",
       "Short       64020       61209       22753       38333  ...       30940   \n",
       "Short       17137       37875       24248       55467  ...       17750   \n",
       "Short       19393       53859       24360       52792  ...       24256   \n",
       "\n",
       "       12/18/2001  12/19/2001  12/20/2001  12/21/2001  12/24/2001  12/26/2001  \\\n",
       "0           10137       10225       10137       10137       10137       10137   \n",
       "0           10225       10401       10225       10225       10225       10225   \n",
       "0           10488       10488       10516       10401       10401       10401   \n",
       "0           10516       10516       10890       10488       10488       10488   \n",
       "0           10866       10866       11308       10516       10516       10516   \n",
       "...           ...         ...         ...         ...         ...         ...   \n",
       "Short       60628       35991       64282       54675       38295       60628   \n",
       "Short       12060       44150       66078       73139       26382       40061   \n",
       "Short       12650       55511       29946       11691       42550       14219   \n",
       "Short       50606       49373       28840       63781       76946       64282   \n",
       "Short       50905       24109       51457       50550       63686       30761   \n",
       "\n",
       "       12/27/2001  12/28/2001  12/31/2001  \n",
       "0           10137       10137       10137  \n",
       "0           10225       10225       10225  \n",
       "0           10488       10401       10401  \n",
       "0           10516       10656       10516  \n",
       "0           10656       10890       10656  \n",
       "...           ...         ...         ...  \n",
       "Short       15203       50788       24256  \n",
       "Short       35124       36468       19596  \n",
       "Short       74908       58675       38172  \n",
       "Short       17961       39765       26112  \n",
       "Short       46295       21020       56952  \n",
       "\n",
       "[690 rows x 3028 columns]"
      ]
     },
     "execution_count": 17,
     "metadata": {},
     "output_type": "execute_result"
    }
   ],
   "source": [
    "invest_df = pd.DataFrame(index= index_sl, columns = dates)\n",
    "for day in dates:\n",
    "    l_id = list(signal_df_T.nlargest(69, day)[day].index)\n",
    "    s_id = list(signal_df_T.nsmallest(69, day)[day].index)\n",
    "    j = signal_df_T.drop(l_id)\n",
    "    j = j.drop(s_id)[day]\n",
    "    z_id = list(j.index)\n",
    "    invest_df[day]=z_id+l_id + s_id\n",
    "invest_df"
   ]
  },
  {
   "cell_type": "code",
   "execution_count": 18,
   "metadata": {},
   "outputs": [],
   "source": [
    "strat_df = pd.DataFrame(index = dates, columns = ['Returns'])\n",
    "strat_df['Returns']['01/02/1990']=0\n",
    "\n",
    "for i in range(1, len(dates)):\n",
    "    l=list(signal_df_T.nlargest(69, dates[i-1])[dates[i-1]].index)\n",
    "    s=list(signal_df_T.nsmallest(69, dates[i-1])[dates[i-1]].index)\n",
    "\n",
    "    \n",
    "    strat_df['Returns'][dates[i]]=(clean_df[l][i:i+1].sum(axis = 1))/69 +(clean_df[s][i:i+1].sum(axis = 1))/(-69)"
   ]
  },
  {
   "cell_type": "code",
   "execution_count": 125,
   "metadata": {},
   "outputs": [
    {
     "data": {
      "text/html": [
       "<div>\n",
       "<style scoped>\n",
       "    .dataframe tbody tr th:only-of-type {\n",
       "        vertical-align: middle;\n",
       "    }\n",
       "\n",
       "    .dataframe tbody tr th {\n",
       "        vertical-align: top;\n",
       "    }\n",
       "\n",
       "    .dataframe thead th {\n",
       "        text-align: right;\n",
       "    }\n",
       "</style>\n",
       "<table border=\"1\" class=\"dataframe\">\n",
       "  <thead>\n",
       "    <tr style=\"text-align: right;\">\n",
       "      <th></th>\n",
       "      <th>Returns</th>\n",
       "      <th>Dates</th>\n",
       "    </tr>\n",
       "  </thead>\n",
       "  <tbody>\n",
       "    <tr>\n",
       "      <td>01/02/1990</td>\n",
       "      <td>0.000000</td>\n",
       "      <td>01/02/1990</td>\n",
       "    </tr>\n",
       "    <tr>\n",
       "      <td>01/03/1990</td>\n",
       "      <td>3.104149</td>\n",
       "      <td>01/03/1990</td>\n",
       "    </tr>\n",
       "    <tr>\n",
       "      <td>01/04/1990</td>\n",
       "      <td>2.268932</td>\n",
       "      <td>01/04/1990</td>\n",
       "    </tr>\n",
       "    <tr>\n",
       "      <td>01/05/1990</td>\n",
       "      <td>-0.471001</td>\n",
       "      <td>01/05/1990</td>\n",
       "    </tr>\n",
       "    <tr>\n",
       "      <td>01/08/1990</td>\n",
       "      <td>6.073575</td>\n",
       "      <td>01/08/1990</td>\n",
       "    </tr>\n",
       "    <tr>\n",
       "      <td>...</td>\n",
       "      <td>...</td>\n",
       "      <td>...</td>\n",
       "    </tr>\n",
       "    <tr>\n",
       "      <td>12/24/2001</td>\n",
       "      <td>5.791993</td>\n",
       "      <td>12/24/2001</td>\n",
       "    </tr>\n",
       "    <tr>\n",
       "      <td>12/26/2001</td>\n",
       "      <td>1.467490</td>\n",
       "      <td>12/26/2001</td>\n",
       "    </tr>\n",
       "    <tr>\n",
       "      <td>12/27/2001</td>\n",
       "      <td>3.242864</td>\n",
       "      <td>12/27/2001</td>\n",
       "    </tr>\n",
       "    <tr>\n",
       "      <td>12/28/2001</td>\n",
       "      <td>5.163158</td>\n",
       "      <td>12/28/2001</td>\n",
       "    </tr>\n",
       "    <tr>\n",
       "      <td>12/31/2001</td>\n",
       "      <td>1.731267</td>\n",
       "      <td>12/31/2001</td>\n",
       "    </tr>\n",
       "  </tbody>\n",
       "</table>\n",
       "<p>3028 rows × 2 columns</p>\n",
       "</div>"
      ],
      "text/plain": [
       "             Returns       Dates\n",
       "01/02/1990  0.000000  01/02/1990\n",
       "01/03/1990  3.104149  01/03/1990\n",
       "01/04/1990  2.268932  01/04/1990\n",
       "01/05/1990 -0.471001  01/05/1990\n",
       "01/08/1990  6.073575  01/08/1990\n",
       "...              ...         ...\n",
       "12/24/2001  5.791993  12/24/2001\n",
       "12/26/2001  1.467490  12/26/2001\n",
       "12/27/2001  3.242864  12/27/2001\n",
       "12/28/2001  5.163158  12/28/2001\n",
       "12/31/2001  1.731267  12/31/2001\n",
       "\n",
       "[3028 rows x 2 columns]"
      ]
     },
     "execution_count": 125,
     "metadata": {},
     "output_type": "execute_result"
    }
   ],
   "source": [
    "strat_df['Returns']=strat_df['Returns'].astype(float)\n",
    "strat_df"
   ]
  },
  {
   "cell_type": "markdown",
   "metadata": {},
   "source": [
    "#### Long and short sub-portfolios returns ####"
   ]
  },
  {
   "cell_type": "code",
   "execution_count": 19,
   "metadata": {},
   "outputs": [],
   "source": [
    "long_portf = pd.DataFrame(index = dates, columns = ['Returns'])\n",
    "long_portf['Returns']['01/02/1990']=0\n",
    "\n",
    "\n",
    "short_portf = pd.DataFrame(index = dates, columns = ['Returns'])\n",
    "short_portf['Returns']['01/02/1990']=0\n",
    "\n",
    "for i in range(1, len(dates)):\n",
    "    l=list(signal_df_T.nlargest(69, dates[i-1])[dates[i-1]].index)\n",
    "    \n",
    "    long_portf['Returns'][dates[i]]=(clean_df[l][i:i+1].sum(axis = 1))/69\n",
    "for i in range(1, len(dates)):\n",
    "    \n",
    "    s=list(signal_df_T.nsmallest(69, dates[i-1])[dates[i-1]].index)\n",
    "    short_portf['Returns'][dates[i]]=(clean_df[s][i:i+1].sum(axis = 1))/(-69)"
   ]
  },
  {
   "cell_type": "code",
   "execution_count": 20,
   "metadata": {},
   "outputs": [
    {
     "data": {
      "text/html": [
       "<div>\n",
       "<style scoped>\n",
       "    .dataframe tbody tr th:only-of-type {\n",
       "        vertical-align: middle;\n",
       "    }\n",
       "\n",
       "    .dataframe tbody tr th {\n",
       "        vertical-align: top;\n",
       "    }\n",
       "\n",
       "    .dataframe thead th {\n",
       "        text-align: right;\n",
       "    }\n",
       "</style>\n",
       "<table border=\"1\" class=\"dataframe\">\n",
       "  <thead>\n",
       "    <tr style=\"text-align: right;\">\n",
       "      <th></th>\n",
       "      <th>Returns</th>\n",
       "    </tr>\n",
       "  </thead>\n",
       "  <tbody>\n",
       "    <tr>\n",
       "      <td>01/02/1990</td>\n",
       "      <td>0.000000</td>\n",
       "    </tr>\n",
       "    <tr>\n",
       "      <td>01/03/1990</td>\n",
       "      <td>0.513037</td>\n",
       "    </tr>\n",
       "    <tr>\n",
       "      <td>01/04/1990</td>\n",
       "      <td>1.037701</td>\n",
       "    </tr>\n",
       "    <tr>\n",
       "      <td>01/05/1990</td>\n",
       "      <td>0.062897</td>\n",
       "    </tr>\n",
       "    <tr>\n",
       "      <td>01/08/1990</td>\n",
       "      <td>2.725237</td>\n",
       "    </tr>\n",
       "    <tr>\n",
       "      <td>...</td>\n",
       "      <td>...</td>\n",
       "    </tr>\n",
       "    <tr>\n",
       "      <td>12/24/2001</td>\n",
       "      <td>0.968314</td>\n",
       "    </tr>\n",
       "    <tr>\n",
       "      <td>12/26/2001</td>\n",
       "      <td>1.291082</td>\n",
       "    </tr>\n",
       "    <tr>\n",
       "      <td>12/27/2001</td>\n",
       "      <td>-1.071887</td>\n",
       "    </tr>\n",
       "    <tr>\n",
       "      <td>12/28/2001</td>\n",
       "      <td>2.065471</td>\n",
       "    </tr>\n",
       "    <tr>\n",
       "      <td>12/31/2001</td>\n",
       "      <td>-1.459387</td>\n",
       "    </tr>\n",
       "  </tbody>\n",
       "</table>\n",
       "<p>3028 rows × 1 columns</p>\n",
       "</div>"
      ],
      "text/plain": [
       "             Returns\n",
       "01/02/1990  0.000000\n",
       "01/03/1990  0.513037\n",
       "01/04/1990  1.037701\n",
       "01/05/1990  0.062897\n",
       "01/08/1990  2.725237\n",
       "...              ...\n",
       "12/24/2001  0.968314\n",
       "12/26/2001  1.291082\n",
       "12/27/2001 -1.071887\n",
       "12/28/2001  2.065471\n",
       "12/31/2001 -1.459387\n",
       "\n",
       "[3028 rows x 1 columns]"
      ]
     },
     "execution_count": 20,
     "metadata": {},
     "output_type": "execute_result"
    }
   ],
   "source": [
    "short_portf['Returns'] = short_portf['Returns'].astype(float)\n",
    "long_portf['Returns'] = long_portf['Returns'].astype(float)\n",
    "long_portf\n",
    "short_portf"
   ]
  },
  {
   "cell_type": "markdown",
   "metadata": {},
   "source": [
    "## Portfolio Analytics ##"
   ]
  },
  {
   "cell_type": "markdown",
   "metadata": {},
   "source": [
    "#### Mean ####"
   ]
  },
  {
   "cell_type": "code",
   "execution_count": 21,
   "metadata": {},
   "outputs": [
    {
     "name": "stdout",
     "output_type": "stream",
     "text": [
      "The annualized average return of the strategy is: 3.33 or 333.0 %.\n"
     ]
    }
   ],
   "source": [
    "strat_df['Returns']=strat_df['Returns'].astype(float)\n",
    "strat_mean = np.mean(strat_df['Returns'])\n",
    "print('The annualized average return of the strategy is:',np.round(strat_mean,decimals=2), 'or',np.round(np.mean(strat_df['Returns']),decimals=2)*100,'%.')\n",
    "\n"
   ]
  },
  {
   "cell_type": "markdown",
   "metadata": {},
   "source": [
    "#### Standard deviation ####"
   ]
  },
  {
   "cell_type": "code",
   "execution_count": 22,
   "metadata": {},
   "outputs": [
    {
     "name": "stdout",
     "output_type": "stream",
     "text": [
      "The annualized standard deviation of returns of the strategy is: 0.16 or 16.0 %.\n"
     ]
    }
   ],
   "source": [
    "strat_std = np.std(strat_df['Returns'])/np.sqrt(252)\n",
    "\n",
    "print('The annualized standard deviation of returns of the strategy is:',np.round(strat_std,decimals=2),'or',np.round(np.std(strat_df['Returns']/np.sqrt(252)),decimals=2)*100,'%.')\n",
    "\n"
   ]
  },
  {
   "cell_type": "markdown",
   "metadata": {},
   "source": [
    "#### Sharpe ratio ####"
   ]
  },
  {
   "cell_type": "code",
   "execution_count": 23,
   "metadata": {},
   "outputs": [
    {
     "name": "stdout",
     "output_type": "stream",
     "text": [
      "The annualized Sharpe ratio of this strategy is: 20.36 .\n"
     ]
    }
   ],
   "source": [
    "strat_SR = np.round((np.mean(strat_df['Returns']))/np.std(strat_df['Returns']/np.sqrt(252)),decimals=2)\n",
    "print('The annualized Sharpe ratio of this strategy is:',np.round((np.mean(strat_df['Returns']))/np.std(strat_df['Returns']/np.sqrt(252)),decimals=2),'.')\n",
    "\n"
   ]
  },
  {
   "cell_type": "markdown",
   "metadata": {},
   "source": [
    "#### Market Index Analytics ####"
   ]
  },
  {
   "cell_type": "code",
   "execution_count": 24,
   "metadata": {},
   "outputs": [],
   "source": [
    "mkt_mean = np.mean(index['Index'])\n",
    "mkt_std = np.std(index['Index'])/np.sqrt(252)\n",
    "mkt_SR = mkt_mean/mkt_std"
   ]
  },
  {
   "cell_type": "code",
   "execution_count": 26,
   "metadata": {},
   "outputs": [],
   "source": [
    "metrics = ['Mean of annualized returns', 'Standard deviation', 'Sharpe ratio']\n"
   ]
  },
  {
   "cell_type": "code",
   "execution_count": 27,
   "metadata": {},
   "outputs": [
    {
     "data": {
      "text/html": [
       "<div>\n",
       "<style scoped>\n",
       "    .dataframe tbody tr th:only-of-type {\n",
       "        vertical-align: middle;\n",
       "    }\n",
       "\n",
       "    .dataframe tbody tr th {\n",
       "        vertical-align: top;\n",
       "    }\n",
       "\n",
       "    .dataframe thead th {\n",
       "        text-align: right;\n",
       "    }\n",
       "</style>\n",
       "<table border=\"1\" class=\"dataframe\">\n",
       "  <thead>\n",
       "    <tr style=\"text-align: right;\">\n",
       "      <th></th>\n",
       "      <th>Market Index</th>\n",
       "      <th>Contrarian Strategy</th>\n",
       "    </tr>\n",
       "  </thead>\n",
       "  <tbody>\n",
       "    <tr>\n",
       "      <td>Mean of annualized returns</td>\n",
       "      <td>0.08</td>\n",
       "      <td>3.33</td>\n",
       "    </tr>\n",
       "    <tr>\n",
       "      <td>Standard deviation</td>\n",
       "      <td>0.11</td>\n",
       "      <td>0.16</td>\n",
       "    </tr>\n",
       "    <tr>\n",
       "      <td>Sharpe ratio</td>\n",
       "      <td>0.77</td>\n",
       "      <td>20.36</td>\n",
       "    </tr>\n",
       "  </tbody>\n",
       "</table>\n",
       "</div>"
      ],
      "text/plain": [
       "                            Market Index  Contrarian Strategy\n",
       "Mean of annualized returns          0.08                 3.33\n",
       "Standard deviation                  0.11                 0.16\n",
       "Sharpe ratio                        0.77                20.36"
      ]
     },
     "execution_count": 27,
     "metadata": {},
     "output_type": "execute_result"
    }
   ],
   "source": [
    "summary=pd.DataFrame(index = metrics, columns = ['Market Index', 'Contrarian Strategy'])\n",
    "summary['Contrarian Strategy']=np.round([strat_mean, strat_std, strat_SR], decimals=2)\n",
    "summary['Market Index']= np.round([mkt_mean,mkt_std, mkt_SR], decimals=2)\n",
    "summary"
   ]
  },
  {
   "cell_type": "markdown",
   "metadata": {},
   "source": [
    "#### Plot of portfolio returns over time ####"
   ]
  },
  {
   "cell_type": "code",
   "execution_count": 28,
   "metadata": {},
   "outputs": [],
   "source": [
    "strat_df['Dates']=dates"
   ]
  },
  {
   "cell_type": "code",
   "execution_count": 29,
   "metadata": {},
   "outputs": [
    {
     "data": {
      "image/png": "[encoded data removed]",
      "text/plain": [
       "<matplotlib.figure.Figure at 0x119ae47b8>"
      ]
     },
     "metadata": {},
     "output_type": "display_data"
    }
   ],
   "source": [
    "strat_df.plot(x = 'Dates',y = 'Returns', figsize = (20,10), grid =True, c='green')\n",
    "plt.title('Portfolio returns over time for a contrarian startegy')\n",
    "plt.xlabel('Months')\n",
    "plt.ylabel('Returns')\n",
    "plt.show()"
   ]
  },
  {
   "cell_type": "markdown",
   "metadata": {},
   "source": [
    "#### Correlation between Market Index and Portfolio returns ####"
   ]
  },
  {
   "cell_type": "code",
   "execution_count": 30,
   "metadata": {},
   "outputs": [
    {
     "name": "stdout",
     "output_type": "stream",
     "text": [
      "The correlation between the market index and the portfolio returns is: 0.12 .\n"
     ]
    }
   ],
   "source": [
    "print('The correlation between the market index and the portfolio returns is:',np.round(np.corrcoef(strat_df['Returns'],index['Index'])[0][1], decimals=2),'.')"
   ]
  },
  {
   "cell_type": "markdown",
   "metadata": {},
   "source": [
    "#### Correlation between long and short sub-portfolios ####"
   ]
  },
  {
   "cell_type": "code",
   "execution_count": 31,
   "metadata": {},
   "outputs": [
    {
     "name": "stdout",
     "output_type": "stream",
     "text": [
      "The correlation between the long and short sub-portfolios is: -0.47\n"
     ]
    }
   ],
   "source": [
    "corr_ls = np.round(np.corrcoef(long_portf['Returns'], short_portf['Returns'])[0][1], decimals=2)\n",
    "corr_ls\n",
    "print('The correlation between the long and short sub-portfolios is:', corr_ls)"
   ]
  },
  {
   "cell_type": "markdown",
   "metadata": {},
   "source": [
    "## Analyzing stationarity ##"
   ]
  },
  {
   "cell_type": "code",
   "execution_count": 34,
   "metadata": {},
   "outputs": [
    {
     "data": {
      "image/png": "[encoded data removed]",
      "text/plain": [
       "<matplotlib.figure.Figure at 0x11a1bda20>"
      ]
     },
     "metadata": {},
     "output_type": "display_data"
    }
   ],
   "source": [
    "sns.distplot(strat_df['Returns'])\n",
    "plt.title('Distribution of returns of the strategy')\n",
    "plt.show()"
   ]
  },
  {
   "cell_type": "code",
   "execution_count": 35,
   "metadata": {},
   "outputs": [
    {
     "name": "stdout",
     "output_type": "stream",
     "text": [
      "Skewness of distribution of strategy returns is: -0.05\n",
      "Kurtosis of distribution of strategy returns is: 2.83\n"
     ]
    }
   ],
   "source": [
    "print('Skewness of distribution of strategy returns is:', np.round(strat_df['Returns'].skew(),decimals=2))\n",
    "print('Kurtosis of distribution of strategy returns is:',np.round(strat_df['Returns'].kurt(),decimals=2))"
   ]
  },
  {
   "cell_type": "code",
   "execution_count": 36,
   "metadata": {},
   "outputs": [
    {
     "data": {
      "image/png": "[encoded data removed]",
      "text/plain": [
       "<matplotlib.figure.Figure at 0x11a231dd8>"
      ]
     },
     "metadata": {},
     "output_type": "display_data"
    }
   ],
   "source": [
    "sim_ret = np.random.normal(strat_mean, strat_std, 100000)\n",
    "sns.distplot(sim_ret)\n",
    "plt.title('Simulated Normal Distribution with the mean and standard deviation of the returns of the strategy')\n",
    "plt.show()"
   ]
  },
  {
   "cell_type": "markdown",
   "metadata": {},
   "source": [
    "## Analyzing outliers ##"
   ]
  },
  {
   "cell_type": "markdown",
   "metadata": {},
   "source": [
    "#### Unusual market days in the raw data ####"
   ]
  },
  {
   "cell_type": "code",
   "execution_count": 37,
   "metadata": {},
   "outputs": [
    {
     "name": "stdout",
     "output_type": "stream",
     "text": [
      "<class 'pandas.core.frame.DataFrame'>\n",
      "RangeIndex: 2089320 entries, 0 to 2089319\n",
      "Data columns (total 3 columns):\n",
      "Date      object\n",
      "ID        int64\n",
      "Return    float64\n",
      "dtypes: float64(1), int64(1), object(1)\n",
      "memory usage: 47.8+ MB\n"
     ]
    }
   ],
   "source": [
    "raw_df.info()"
   ]
  },
  {
   "cell_type": "code",
   "execution_count": 38,
   "metadata": {},
   "outputs": [
    {
     "data": {
      "text/plain": [
       "count    2.089320e+06\n",
       "mean     8.131060e-02\n",
       "std      7.134083e+00\n",
       "min     -2.573378e+02\n",
       "25%     -2.731818e+00\n",
       "50%      0.000000e+00\n",
       "75%      2.784531e+00\n",
       "max      3.868831e+02\n",
       "Name: Return, dtype: float64"
      ]
     },
     "execution_count": 38,
     "metadata": {},
     "output_type": "execute_result"
    }
   ],
   "source": [
    "raw_df['Return'].describe()"
   ]
  },
  {
   "cell_type": "code",
   "execution_count": 39,
   "metadata": {},
   "outputs": [
    {
     "data": {
      "text/plain": [
       "['10/27/1997', '08/31/1998', '03/16/2000', '04/14/2000', '09/17/2001']"
      ]
     },
     "execution_count": 39,
     "metadata": {},
     "output_type": "execute_result"
    }
   ],
   "source": [
    "out_days = []\n",
    "for i in range(0, len(index['Index'])):\n",
    "    if np.abs(index['Index'][i]) > 10:\n",
    "        out_days.append(index.index[i])\n",
    "out_days"
   ]
  },
  {
   "cell_type": "markdown",
   "metadata": {},
   "source": [
    "#### Outlier securities ####"
   ]
  },
  {
   "cell_type": "code",
   "execution_count": 93,
   "metadata": {},
   "outputs": [
    {
     "data": {
      "text/plain": [
       "10225"
      ]
     },
     "execution_count": 93,
     "metadata": {},
     "output_type": "execute_result"
    }
   ],
   "source": [
    "securities[1]"
   ]
  },
  {
   "cell_type": "code",
   "execution_count": 94,
   "metadata": {},
   "outputs": [
    {
     "data": {
      "text/plain": [
       "0.08611503373543224"
      ]
     },
     "execution_count": 94,
     "metadata": {},
     "output_type": "execute_result"
    }
   ],
   "source": [
    "np.mean(clean_df[10225])"
   ]
  },
  {
   "cell_type": "code",
   "execution_count": 103,
   "metadata": {},
   "outputs": [
    {
     "data": {
      "text/plain": [
       "[12650, 14702]"
      ]
     },
     "execution_count": 103,
     "metadata": {},
     "output_type": "execute_result"
    }
   ],
   "source": [
    "out_sec = []\n",
    "for ID in securities:\n",
    "    if np.mean(clean_df[ID])==0:\n",
    "        out_sec.append(ID)\n",
    "    if np.std(clean_df[ID])/np.sqrt(252)==0:\n",
    "        out_sec.append(ID)\n",
    "    if abs(np.mean(clean_df[ID]))>0.3:\n",
    "        out_sec.append(ID)\n",
    "out_sec"
   ]
  },
  {
   "cell_type": "markdown",
   "metadata": {},
   "source": [
    "#### Outliers in the portfolio returns ###"
   ]
  },
  {
   "cell_type": "code",
   "execution_count": 40,
   "metadata": {},
   "outputs": [
    {
     "name": "stderr",
     "output_type": "stream",
     "text": [
      "/Applications/anaconda3/lib/python3.6/site-packages/seaborn/categorical.py:462: FutureWarning: remove_na is deprecated and is a private function. Do not use.\n",
      "  box_data = remove_na(group_data)\n"
     ]
    },
    {
     "data": {
      "image/png": "[encoded data removed]",
      "text/plain": [
       "<matplotlib.figure.Figure at 0x119a4de10>"
      ]
     },
     "metadata": {},
     "output_type": "display_data"
    }
   ],
   "source": [
    "sns.boxplot(data=strat_df['Returns'])\n",
    "plt.show()"
   ]
  },
  {
   "cell_type": "code",
   "execution_count": 41,
   "metadata": {},
   "outputs": [
    {
     "data": {
      "text/plain": [
       "14"
      ]
     },
     "execution_count": 41,
     "metadata": {},
     "output_type": "execute_result"
    }
   ],
   "source": [
    "outlier_detection = DBSCAN(min_samples = 2, eps = 0.2)\n",
    "data = np.array(strat_df['Returns'].values).reshape(-1,1)\n",
    "clusters = outlier_detection.fit_predict(data)\n",
    "list(clusters).count(-1)"
   ]
  },
  {
   "cell_type": "code",
   "execution_count": 42,
   "metadata": {},
   "outputs": [
    {
     "data": {
      "text/plain": [
       "31"
      ]
     },
     "execution_count": 42,
     "metadata": {},
     "output_type": "execute_result"
    }
   ],
   "source": [
    "clf = IsolationForest( behaviour = 'new', max_samples=3000, random_state = 1, contamination= 0.01)\n",
    "preds = list(clf.fit_predict(data))\n",
    "preds.count(-1)\n"
   ]
  },
  {
   "cell_type": "markdown",
   "metadata": {},
   "source": [
    "# Part 2: A Family of Strategies #"
   ]
  },
  {
   "cell_type": "code",
   "execution_count": 43,
   "metadata": {},
   "outputs": [],
   "source": [
    "def contrarianStrat(k, raw_df, clean_df):\n",
    "    dates = raw_df['Date'].unique()\n",
    "    securities = raw_df['ID'].unique()\n",
    "    \n",
    "    signal_df_lag = pd.DataFrame(index=dates, columns = securities)\n",
    "    z = [0]*(k-1)\n",
    "    for ID in securities:\n",
    "        lagged_signals = - (clean_df[ID]-index['Index'])\n",
    "        lagged_signals = list(lagged_signals)[:-(k-1)]\n",
    "        signal_df_lag[ID]= z + lagged_signals\n",
    "    signal_df_lag_T = signal_df_lag.T\n",
    "    \n",
    "    profit_df_lag = pd.DataFrame(index = dates, columns = ['Returns'])\n",
    "    for t in range(0, k):\n",
    "        \n",
    "        profit_df_lag['Returns'][dates[t]]=0\n",
    "\n",
    "    for i in range(k, len(dates)):\n",
    "        l=list(signal_df_lag_T.nlargest(69, dates[i-1])[dates[i-1]].index)\n",
    "        s=list(signal_df_lag_T.nsmallest(69, dates[i-1])[dates[i-1]].index)\n",
    "  \n",
    "        profit_df_lag['Returns'][dates[i]]=(clean_df[l][i:i+1].sum(axis = 1))/69 +(clean_df[s][i:i+1].sum(axis = 1))/(-69)\n",
    "    \n",
    "    profit_df_lag['Returns']=profit_df_lag['Returns'].astype(float)\n",
    "\n",
    "\n",
    "    return profit_df_lag\n"
   ]
  },
  {
   "cell_type": "markdown",
   "metadata": {},
   "source": [
    "#### Takes some time to run ####"
   ]
  },
  {
   "cell_type": "code",
   "execution_count": 45,
   "metadata": {},
   "outputs": [
    {
     "data": {
      "text/html": [
       "<div>\n",
       "<style scoped>\n",
       "    .dataframe tbody tr th:only-of-type {\n",
       "        vertical-align: middle;\n",
       "    }\n",
       "\n",
       "    .dataframe tbody tr th {\n",
       "        vertical-align: top;\n",
       "    }\n",
       "\n",
       "    .dataframe thead th {\n",
       "        text-align: right;\n",
       "    }\n",
       "</style>\n",
       "<table border=\"1\" class=\"dataframe\">\n",
       "  <thead>\n",
       "    <tr style=\"text-align: right;\">\n",
       "      <th></th>\n",
       "      <th>2</th>\n",
       "      <th>3</th>\n",
       "      <th>4</th>\n",
       "      <th>5</th>\n",
       "    </tr>\n",
       "  </thead>\n",
       "  <tbody>\n",
       "    <tr>\n",
       "      <td>Mean of annualized returns</td>\n",
       "      <td>0.37</td>\n",
       "      <td>0.22</td>\n",
       "      <td>0.16</td>\n",
       "      <td>0.09</td>\n",
       "    </tr>\n",
       "    <tr>\n",
       "      <td>Standard deviation</td>\n",
       "      <td>0.1344</td>\n",
       "      <td>0.1293</td>\n",
       "      <td>0.1285</td>\n",
       "      <td>0.1283</td>\n",
       "    </tr>\n",
       "    <tr>\n",
       "      <td>Sharpe ratio</td>\n",
       "      <td>2.74</td>\n",
       "      <td>1.73</td>\n",
       "      <td>1.27</td>\n",
       "      <td>0.66</td>\n",
       "    </tr>\n",
       "  </tbody>\n",
       "</table>\n",
       "</div>"
      ],
      "text/plain": [
       "                                 2       3       4       5\n",
       "Mean of annualized returns    0.37    0.22    0.16    0.09\n",
       "Standard deviation          0.1344  0.1293  0.1285  0.1283\n",
       "Sharpe ratio                  2.74    1.73    1.27    0.66"
      ]
     },
     "execution_count": 45,
     "metadata": {},
     "output_type": "execute_result"
    }
   ],
   "source": [
    "K = [2,3,4,5]\n",
    "lag_results = pd.DataFrame(index= metrics,columns = K)\n",
    "for k in K:\n",
    "    ret = contrarianStrat(k,raw_df, clean_df)\n",
    "    lag_results[k]['Mean of annualized returns']= np.round(np.mean(ret['Returns']), decimals=2)\n",
    "    lag_results[k]['Standard deviation']=np.round(np.std(ret['Returns'])/np.sqrt(252), decimals=4)\n",
    "    lag_results[k]['Sharpe ratio']=np.round(np.mean(ret['Returns'])/(np.std(ret['Returns'])/np.sqrt(252)), decimals=2)\n",
    "\n",
    "lag_results"
   ]
  },
  {
   "cell_type": "code",
   "execution_count": 47,
   "metadata": {},
   "outputs": [],
   "source": [
    "lag_results[1]= [np.round(strat_mean,decimals=2), np.round(strat_std,decimals=2),np.round(strat_SR,decimals=2)] "
   ]
  },
  {
   "cell_type": "markdown",
   "metadata": {},
   "source": [
    "## Summary of results from the contrarian strategies with different values for k ##"
   ]
  },
  {
   "cell_type": "code",
   "execution_count": 48,
   "metadata": {},
   "outputs": [
    {
     "data": {
      "text/html": [
       "<div>\n",
       "<style scoped>\n",
       "    .dataframe tbody tr th:only-of-type {\n",
       "        vertical-align: middle;\n",
       "    }\n",
       "\n",
       "    .dataframe tbody tr th {\n",
       "        vertical-align: top;\n",
       "    }\n",
       "\n",
       "    .dataframe thead th {\n",
       "        text-align: right;\n",
       "    }\n",
       "</style>\n",
       "<table border=\"1\" class=\"dataframe\">\n",
       "  <thead>\n",
       "    <tr style=\"text-align: right;\">\n",
       "      <th></th>\n",
       "      <th>2</th>\n",
       "      <th>3</th>\n",
       "      <th>4</th>\n",
       "      <th>5</th>\n",
       "      <th>1</th>\n",
       "    </tr>\n",
       "  </thead>\n",
       "  <tbody>\n",
       "    <tr>\n",
       "      <td>Mean of annualized returns</td>\n",
       "      <td>0.37</td>\n",
       "      <td>0.22</td>\n",
       "      <td>0.16</td>\n",
       "      <td>0.09</td>\n",
       "      <td>3.33</td>\n",
       "    </tr>\n",
       "    <tr>\n",
       "      <td>Standard deviation</td>\n",
       "      <td>0.1344</td>\n",
       "      <td>0.1293</td>\n",
       "      <td>0.1285</td>\n",
       "      <td>0.1283</td>\n",
       "      <td>0.16</td>\n",
       "    </tr>\n",
       "    <tr>\n",
       "      <td>Sharpe ratio</td>\n",
       "      <td>2.74</td>\n",
       "      <td>1.73</td>\n",
       "      <td>1.27</td>\n",
       "      <td>0.66</td>\n",
       "      <td>20.36</td>\n",
       "    </tr>\n",
       "  </tbody>\n",
       "</table>\n",
       "</div>"
      ],
      "text/plain": [
       "                                 2       3       4       5      1\n",
       "Mean of annualized returns    0.37    0.22    0.16    0.09   3.33\n",
       "Standard deviation          0.1344  0.1293  0.1285  0.1283   0.16\n",
       "Sharpe ratio                  2.74    1.73    1.27    0.66  20.36"
      ]
     },
     "execution_count": 48,
     "metadata": {},
     "output_type": "execute_result"
    }
   ],
   "source": [
    "lag_results"
   ]
  },
  {
   "cell_type": "markdown",
   "metadata": {},
   "source": [
    "## Creation of flat file ##"
   ]
  },
  {
   "cell_type": "code",
   "execution_count": 49,
   "metadata": {},
   "outputs": [
    {
     "data": {
      "text/html": [
       "<div>\n",
       "<style scoped>\n",
       "    .dataframe tbody tr th:only-of-type {\n",
       "        vertical-align: middle;\n",
       "    }\n",
       "\n",
       "    .dataframe tbody tr th {\n",
       "        vertical-align: top;\n",
       "    }\n",
       "\n",
       "    .dataframe thead th {\n",
       "        text-align: right;\n",
       "    }\n",
       "</style>\n",
       "<table border=\"1\" class=\"dataframe\">\n",
       "  <thead>\n",
       "    <tr style=\"text-align: right;\">\n",
       "      <th></th>\n",
       "      <th>pid</th>\n",
       "      <th>d</th>\n",
       "      <th>id</th>\n",
       "      <th>k</th>\n",
       "      <th>w</th>\n",
       "      <th>vid</th>\n",
       "    </tr>\n",
       "  </thead>\n",
       "  <tbody>\n",
       "  </tbody>\n",
       "</table>\n",
       "</div>"
      ],
      "text/plain": [
       "Empty DataFrame\n",
       "Columns: [pid, d, id, k, w, vid]\n",
       "Index: []"
      ]
     },
     "execution_count": 49,
     "metadata": {},
     "output_type": "execute_result"
    }
   ],
   "source": [
    "flat_file = pd.DataFrame(columns=['pid', 'd', 'id', 'k','w','vid'])\n",
    "flat_file"
   ]
  },
  {
   "cell_type": "code",
   "execution_count": 50,
   "metadata": {},
   "outputs": [
    {
     "data": {
      "text/plain": [
       "690"
      ]
     },
     "execution_count": 50,
     "metadata": {},
     "output_type": "execute_result"
    }
   ],
   "source": [
    "len(securities)"
   ]
  },
  {
   "cell_type": "code",
   "execution_count": 51,
   "metadata": {},
   "outputs": [
    {
     "data": {
      "text/plain": [
       "10446600"
      ]
     },
     "execution_count": 51,
     "metadata": {},
     "output_type": "execute_result"
    }
   ],
   "source": [
    "k_flat=[]\n",
    "for l in ([1,2,3,4,5]):\n",
    "    k_flat.extend([l]*690*3028)\n",
    "len(k_flat)"
   ]
  },
  {
   "cell_type": "code",
   "execution_count": 52,
   "metadata": {},
   "outputs": [],
   "source": [
    "d_flat = []\n",
    "for day in dates:\n",
    "    d_flat.extend(690*[day])\n",
    "\n",
    "d_flat_full = 5*d_flat"
   ]
  },
  {
   "cell_type": "code",
   "execution_count": 53,
   "metadata": {},
   "outputs": [
    {
     "data": {
      "text/plain": [
       "10446600"
      ]
     },
     "execution_count": 53,
     "metadata": {},
     "output_type": "execute_result"
    }
   ],
   "source": [
    "len(d_flat_full)"
   ]
  },
  {
   "cell_type": "code",
   "execution_count": 55,
   "metadata": {},
   "outputs": [],
   "source": [
    "mit_id = [929948579]*10446600\n",
    "flat_file['pid']=mit_id\n",
    "vid = [0]*10446600\n",
    "flat_file['vid']=vid"
   ]
  },
  {
   "cell_type": "code",
   "execution_count": 57,
   "metadata": {},
   "outputs": [],
   "source": [
    "flat_file['d']=d_flat_full"
   ]
  },
  {
   "cell_type": "code",
   "execution_count": 58,
   "metadata": {},
   "outputs": [],
   "source": [
    "flat_file['k']=k_flat"
   ]
  },
  {
   "cell_type": "code",
   "execution_count": 59,
   "metadata": {},
   "outputs": [
    {
     "data": {
      "text/plain": [
       "552"
      ]
     },
     "execution_count": 59,
     "metadata": {},
     "output_type": "execute_result"
    }
   ],
   "source": [
    "690-138"
   ]
  },
  {
   "cell_type": "code",
   "execution_count": 83,
   "metadata": {},
   "outputs": [],
   "source": [
    "w_flat = []\n",
    "w_flat.extend(552*[0])\n",
    "w_flat.extend(69*[np.round(1/69, decimals=3)])\n",
    "w_flat.extend(69*[np.round(-1/69, decimals=3)])\n",
    "w_flat_f=5*3028*w_flat"
   ]
  },
  {
   "cell_type": "code",
   "execution_count": 84,
   "metadata": {},
   "outputs": [
    {
     "data": {
      "text/plain": [
       "10446600"
      ]
     },
     "execution_count": 84,
     "metadata": {},
     "output_type": "execute_result"
    }
   ],
   "source": [
    "len(w_flat_f)"
   ]
  },
  {
   "cell_type": "code",
   "execution_count": 85,
   "metadata": {},
   "outputs": [],
   "source": [
    "flat_file['w']=w_flat_f"
   ]
  },
  {
   "cell_type": "code",
   "execution_count": 56,
   "metadata": {},
   "outputs": [],
   "source": [
    "invest_df_1= invest_df"
   ]
  },
  {
   "cell_type": "code",
   "execution_count": 63,
   "metadata": {},
   "outputs": [
    {
     "data": {
      "text/plain": [
       "2089320"
      ]
     },
     "execution_count": 63,
     "metadata": {},
     "output_type": "execute_result"
    }
   ],
   "source": [
    "id_flat_1 =[]\n",
    "for day in dates:\n",
    "    id_flat_1.extend(list(invest_df_1[day].values))\n",
    "len(id_flat_1)"
   ]
  },
  {
   "cell_type": "code",
   "execution_count": 64,
   "metadata": {},
   "outputs": [],
   "source": [
    "def portoflio_sec_lag(k, raw_df, clean_df):\n",
    "    dates = raw_df['Date'].unique()\n",
    "    securities = raw_df['ID'].unique()\n",
    "    \n",
    "    signal_df_lag = pd.DataFrame(index=dates, columns = securities)\n",
    "    z = [0]*(k-1)\n",
    "    for ID in securities:\n",
    "        lagged_signals = - (clean_df[ID]-index['Index'])\n",
    "        lagged_signals = list(lagged_signals)[:-(k-1)]\n",
    "        signal_df_lag[ID]= z + lagged_signals\n",
    "    signal_df_lag_T = signal_df_lag.T\n",
    "    \n",
    "    long = ['Long']*69\n",
    "    short = ['Short']*69\n",
    "    no_weight = ['0']*552\n",
    "    index_sl=no_weight+long+short\n",
    "    \n",
    "    invest_df = pd.DataFrame(index= index_sl, columns = dates)\n",
    "    \n",
    "    #print(len(signal_df_lag_T))\n",
    "    #for day in dates[(k-1):]:\n",
    "     #   l_id = list(signal_df_lag_T.nlargest(69, day)[day].index)\n",
    "      #  print(l_id)\n",
    "       # s_id = list(signal_df_lag_T.nsmallest(69, day)[day].index)\n",
    "       # print(s_id)\n",
    "        #j = signal_df_lag_T.drop(l_id)\n",
    "       # print(j)\n",
    "        #j = j.drop(s_id)[day]\n",
    "        #z_id = list(j.index)\n",
    "        #invest_df[day]=z_id+l_id + s_id\n",
    "    \n",
    "    for i in range(0, len(dates)):\n",
    "        if i <(k-1):\n",
    "            invest_df[dates[i]]=[0]*690\n",
    "        else:\n",
    "            l_id = list(signal_df_lag_T.nlargest(69, dates[i])[dates[i]].index)\n",
    "            s_id = list(signal_df_lag_T.nsmallest(69, dates[i])[dates[i]].index)\n",
    "        \n",
    "            j = signal_df_lag_T.drop(l_id)\n",
    "      \n",
    "            j = j.drop(s_id)\n",
    "            z_id = list(j.index)\n",
    "            invest_df[dates[i]]=z_id+l_id + s_id\n",
    "    \n",
    "    return invest_df"
   ]
  },
  {
   "cell_type": "markdown",
   "metadata": {},
   "source": [
    "#### May take some time to run but works well (~15/20min for the following 4 lines)####"
   ]
  },
  {
   "cell_type": "code",
   "execution_count": 65,
   "metadata": {},
   "outputs": [],
   "source": [
    "invest_df_2 = portoflio_sec_lag(2, raw_df, clean_df)"
   ]
  },
  {
   "cell_type": "code",
   "execution_count": 66,
   "metadata": {},
   "outputs": [],
   "source": [
    "invest_df_3= portoflio_sec_lag(3, raw_df, clean_df)"
   ]
  },
  {
   "cell_type": "code",
   "execution_count": 68,
   "metadata": {},
   "outputs": [],
   "source": [
    "invest_df_4= portoflio_sec_lag(4, raw_df, clean_df)"
   ]
  },
  {
   "cell_type": "code",
   "execution_count": 69,
   "metadata": {},
   "outputs": [],
   "source": [
    "invest_df_5= portoflio_sec_lag(5, raw_df, clean_df)"
   ]
  },
  {
   "cell_type": "code",
   "execution_count": 70,
   "metadata": {},
   "outputs": [
    {
     "name": "stdout",
     "output_type": "stream",
     "text": [
      "2089320\n",
      "2089320\n",
      "2089320\n"
     ]
    },
    {
     "data": {
      "text/plain": [
       "2089320"
      ]
     },
     "execution_count": 70,
     "metadata": {},
     "output_type": "execute_result"
    }
   ],
   "source": [
    "id_flat_2 =[]\n",
    "for day in dates:\n",
    "    id_flat_2.extend(list(invest_df_2[day].values))\n",
    "print(len(id_flat_2))\n",
    "\n",
    "id_flat_3 =[]\n",
    "for day in dates:\n",
    "    id_flat_3.extend(list(invest_df_3[day].values))\n",
    "print(len(id_flat_3))\n",
    "\n",
    "\n",
    "id_flat_4 =[]\n",
    "for day in dates:\n",
    "    id_flat_4.extend(list(invest_df_4[day].values))\n",
    "print(len(id_flat_4))\n",
    "\n",
    "id_flat_5 =[]\n",
    "for day in dates:\n",
    "    id_flat_5.extend(list(invest_df_5[day].values))\n",
    "len(id_flat_5)"
   ]
  },
  {
   "cell_type": "code",
   "execution_count": 71,
   "metadata": {},
   "outputs": [
    {
     "data": {
      "text/plain": [
       "10446600"
      ]
     },
     "execution_count": 71,
     "metadata": {},
     "output_type": "execute_result"
    }
   ],
   "source": [
    "id_flat = id_flat_1+id_flat_2+id_flat_3+id_flat_4+id_flat_5\n",
    "len(id_flat)"
   ]
  },
  {
   "cell_type": "code",
   "execution_count": 72,
   "metadata": {},
   "outputs": [],
   "source": [
    "flat_file['id']=id_flat"
   ]
  },
  {
   "cell_type": "code",
   "execution_count": 87,
   "metadata": {},
   "outputs": [
    {
     "data": {
      "text/html": [
       "<div>\n",
       "<style scoped>\n",
       "    .dataframe tbody tr th:only-of-type {\n",
       "        vertical-align: middle;\n",
       "    }\n",
       "\n",
       "    .dataframe tbody tr th {\n",
       "        vertical-align: top;\n",
       "    }\n",
       "\n",
       "    .dataframe thead th {\n",
       "        text-align: right;\n",
       "    }\n",
       "</style>\n",
       "<table border=\"1\" class=\"dataframe\">\n",
       "  <thead>\n",
       "    <tr style=\"text-align: right;\">\n",
       "      <th></th>\n",
       "      <th>pid</th>\n",
       "      <th>d</th>\n",
       "      <th>id</th>\n",
       "      <th>k</th>\n",
       "      <th>w</th>\n",
       "      <th>vid</th>\n",
       "    </tr>\n",
       "  </thead>\n",
       "  <tbody>\n",
       "    <tr>\n",
       "      <td>0</td>\n",
       "      <td>929948579</td>\n",
       "      <td>01/02/1990</td>\n",
       "      <td>10137</td>\n",
       "      <td>1</td>\n",
       "      <td>0.000</td>\n",
       "      <td>0</td>\n",
       "    </tr>\n",
       "    <tr>\n",
       "      <td>1</td>\n",
       "      <td>929948579</td>\n",
       "      <td>01/02/1990</td>\n",
       "      <td>10225</td>\n",
       "      <td>1</td>\n",
       "      <td>0.000</td>\n",
       "      <td>0</td>\n",
       "    </tr>\n",
       "    <tr>\n",
       "      <td>2</td>\n",
       "      <td>929948579</td>\n",
       "      <td>01/02/1990</td>\n",
       "      <td>10401</td>\n",
       "      <td>1</td>\n",
       "      <td>0.000</td>\n",
       "      <td>0</td>\n",
       "    </tr>\n",
       "    <tr>\n",
       "      <td>3</td>\n",
       "      <td>929948579</td>\n",
       "      <td>01/02/1990</td>\n",
       "      <td>10488</td>\n",
       "      <td>1</td>\n",
       "      <td>0.000</td>\n",
       "      <td>0</td>\n",
       "    </tr>\n",
       "    <tr>\n",
       "      <td>4</td>\n",
       "      <td>929948579</td>\n",
       "      <td>01/02/1990</td>\n",
       "      <td>10516</td>\n",
       "      <td>1</td>\n",
       "      <td>0.000</td>\n",
       "      <td>0</td>\n",
       "    </tr>\n",
       "    <tr>\n",
       "      <td>...</td>\n",
       "      <td>...</td>\n",
       "      <td>...</td>\n",
       "      <td>...</td>\n",
       "      <td>...</td>\n",
       "      <td>...</td>\n",
       "      <td>...</td>\n",
       "    </tr>\n",
       "    <tr>\n",
       "      <td>10446595</td>\n",
       "      <td>929948579</td>\n",
       "      <td>12/31/2001</td>\n",
       "      <td>38295</td>\n",
       "      <td>5</td>\n",
       "      <td>-0.014</td>\n",
       "      <td>0</td>\n",
       "    </tr>\n",
       "    <tr>\n",
       "      <td>10446596</td>\n",
       "      <td>929948579</td>\n",
       "      <td>12/31/2001</td>\n",
       "      <td>26382</td>\n",
       "      <td>5</td>\n",
       "      <td>-0.014</td>\n",
       "      <td>0</td>\n",
       "    </tr>\n",
       "    <tr>\n",
       "      <td>10446597</td>\n",
       "      <td>929948579</td>\n",
       "      <td>12/31/2001</td>\n",
       "      <td>42550</td>\n",
       "      <td>5</td>\n",
       "      <td>-0.014</td>\n",
       "      <td>0</td>\n",
       "    </tr>\n",
       "    <tr>\n",
       "      <td>10446598</td>\n",
       "      <td>929948579</td>\n",
       "      <td>12/31/2001</td>\n",
       "      <td>76946</td>\n",
       "      <td>5</td>\n",
       "      <td>-0.014</td>\n",
       "      <td>0</td>\n",
       "    </tr>\n",
       "    <tr>\n",
       "      <td>10446599</td>\n",
       "      <td>929948579</td>\n",
       "      <td>12/31/2001</td>\n",
       "      <td>63686</td>\n",
       "      <td>5</td>\n",
       "      <td>-0.014</td>\n",
       "      <td>0</td>\n",
       "    </tr>\n",
       "  </tbody>\n",
       "</table>\n",
       "<p>10446600 rows × 6 columns</p>\n",
       "</div>"
      ],
      "text/plain": [
       "                pid           d     id  k      w  vid\n",
       "0         929948579  01/02/1990  10137  1  0.000    0\n",
       "1         929948579  01/02/1990  10225  1  0.000    0\n",
       "2         929948579  01/02/1990  10401  1  0.000    0\n",
       "3         929948579  01/02/1990  10488  1  0.000    0\n",
       "4         929948579  01/02/1990  10516  1  0.000    0\n",
       "...             ...         ...    ... ..    ...  ...\n",
       "10446595  929948579  12/31/2001  38295  5 -0.014    0\n",
       "10446596  929948579  12/31/2001  26382  5 -0.014    0\n",
       "10446597  929948579  12/31/2001  42550  5 -0.014    0\n",
       "10446598  929948579  12/31/2001  76946  5 -0.014    0\n",
       "10446599  929948579  12/31/2001  63686  5 -0.014    0\n",
       "\n",
       "[10446600 rows x 6 columns]"
      ]
     },
     "execution_count": 87,
     "metadata": {},
     "output_type": "execute_result"
    }
   ],
   "source": [
    "flat_file"
   ]
  },
  {
   "cell_type": "code",
   "execution_count": 88,
   "metadata": {},
   "outputs": [],
   "source": [
    "flat_file.to_csv('project_b_flat_file',index=False)"
   ]
  },
  {
   "cell_type": "markdown",
   "metadata": {},
   "source": [
    "# Strategy R&D #"
   ]
  },
  {
   "cell_type": "markdown",
   "metadata": {},
   "source": [
    "## Let us reproduce the strategy but select only the top 5 percentile ##"
   ]
  },
  {
   "cell_type": "code",
   "execution_count": 105,
   "metadata": {},
   "outputs": [],
   "source": [
    "rd_df = pd.DataFrame(index = dates, columns = ['Returns'])\n",
    "rd_df['Returns']['01/02/1990']=0\n",
    "\n",
    "for i in range(1, len(dates)):\n",
    "    l=list(signal_df_T.nlargest(34, dates[i-1])[dates[i-1]].index)\n",
    "    s=list(signal_df_T.nsmallest(34, dates[i-1])[dates[i-1]].index)\n",
    "\n",
    "    \n",
    "    rd_df['Returns'][dates[i]]=(clean_df[l][i:i+1].sum(axis = 1))/34 +(clean_df[s][i:i+1].sum(axis = 1))/(-34)"
   ]
  },
  {
   "cell_type": "code",
   "execution_count": 111,
   "metadata": {},
   "outputs": [
    {
     "data": {
      "text/html": [
       "<div>\n",
       "<style scoped>\n",
       "    .dataframe tbody tr th:only-of-type {\n",
       "        vertical-align: middle;\n",
       "    }\n",
       "\n",
       "    .dataframe tbody tr th {\n",
       "        vertical-align: top;\n",
       "    }\n",
       "\n",
       "    .dataframe thead th {\n",
       "        text-align: right;\n",
       "    }\n",
       "</style>\n",
       "<table border=\"1\" class=\"dataframe\">\n",
       "  <thead>\n",
       "    <tr style=\"text-align: right;\">\n",
       "      <th></th>\n",
       "      <th>Returns</th>\n",
       "    </tr>\n",
       "  </thead>\n",
       "  <tbody>\n",
       "    <tr>\n",
       "      <td>01/02/1990</td>\n",
       "      <td>0.000000</td>\n",
       "    </tr>\n",
       "    <tr>\n",
       "      <td>01/03/1990</td>\n",
       "      <td>5.229280</td>\n",
       "    </tr>\n",
       "    <tr>\n",
       "      <td>01/04/1990</td>\n",
       "      <td>3.751494</td>\n",
       "    </tr>\n",
       "    <tr>\n",
       "      <td>01/05/1990</td>\n",
       "      <td>0.396893</td>\n",
       "    </tr>\n",
       "    <tr>\n",
       "      <td>01/08/1990</td>\n",
       "      <td>9.522682</td>\n",
       "    </tr>\n",
       "    <tr>\n",
       "      <td>...</td>\n",
       "      <td>...</td>\n",
       "    </tr>\n",
       "    <tr>\n",
       "      <td>12/24/2001</td>\n",
       "      <td>10.361519</td>\n",
       "    </tr>\n",
       "    <tr>\n",
       "      <td>12/26/2001</td>\n",
       "      <td>1.022433</td>\n",
       "    </tr>\n",
       "    <tr>\n",
       "      <td>12/27/2001</td>\n",
       "      <td>4.621907</td>\n",
       "    </tr>\n",
       "    <tr>\n",
       "      <td>12/28/2001</td>\n",
       "      <td>9.654282</td>\n",
       "    </tr>\n",
       "    <tr>\n",
       "      <td>12/31/2001</td>\n",
       "      <td>4.668754</td>\n",
       "    </tr>\n",
       "  </tbody>\n",
       "</table>\n",
       "<p>3028 rows × 1 columns</p>\n",
       "</div>"
      ],
      "text/plain": [
       "              Returns\n",
       "01/02/1990   0.000000\n",
       "01/03/1990   5.229280\n",
       "01/04/1990   3.751494\n",
       "01/05/1990   0.396893\n",
       "01/08/1990   9.522682\n",
       "...               ...\n",
       "12/24/2001  10.361519\n",
       "12/26/2001   1.022433\n",
       "12/27/2001   4.621907\n",
       "12/28/2001   9.654282\n",
       "12/31/2001   4.668754\n",
       "\n",
       "[3028 rows x 1 columns]"
      ]
     },
     "execution_count": 111,
     "metadata": {},
     "output_type": "execute_result"
    }
   ],
   "source": [
    "rd_df['Returns']=rd_df['Returns'].astype(float)\n",
    "rd_df"
   ]
  },
  {
   "cell_type": "code",
   "execution_count": 116,
   "metadata": {},
   "outputs": [],
   "source": [
    "rd_results = pd.DataFrame(index= metrics,columns = ['Contrarian Strategy 5th percentile'])\n",
    "\n",
    "rd_mean = np.mean(rd_df['Returns'])\n",
    "rd_std = np.std(rd_df['Returns'])/np.sqrt(252)\n",
    "rd_SR = rd_mean/rd_std\n",
    "rd_results['Contrarian Strategy 5th percentile']['Mean of annualized returns']= rd_mean\n",
    "rd_results['Contrarian Strategy 5th percentile']['Standard deviation']=rd_std\n",
    "rd_results['Contrarian Strategy 5th percentile']['Sharpe ratio'] = rd_SR"
   ]
  },
  {
   "cell_type": "code",
   "execution_count": 117,
   "metadata": {},
   "outputs": [
    {
     "data": {
      "text/html": [
       "<div>\n",
       "<style scoped>\n",
       "    .dataframe tbody tr th:only-of-type {\n",
       "        vertical-align: middle;\n",
       "    }\n",
       "\n",
       "    .dataframe tbody tr th {\n",
       "        vertical-align: top;\n",
       "    }\n",
       "\n",
       "    .dataframe thead th {\n",
       "        text-align: right;\n",
       "    }\n",
       "</style>\n",
       "<table border=\"1\" class=\"dataframe\">\n",
       "  <thead>\n",
       "    <tr style=\"text-align: right;\">\n",
       "      <th></th>\n",
       "      <th>Contrarian Strategy 5th percentile</th>\n",
       "    </tr>\n",
       "  </thead>\n",
       "  <tbody>\n",
       "    <tr>\n",
       "      <td>Mean of annualized returns</td>\n",
       "      <td>5.41812</td>\n",
       "    </tr>\n",
       "    <tr>\n",
       "      <td>Standard deviation</td>\n",
       "      <td>0.250575</td>\n",
       "    </tr>\n",
       "    <tr>\n",
       "      <td>Sharpe ratio</td>\n",
       "      <td>21.6227</td>\n",
       "    </tr>\n",
       "  </tbody>\n",
       "</table>\n",
       "</div>"
      ],
      "text/plain": [
       "                           Contrarian Strategy 5th percentile\n",
       "Mean of annualized returns                            5.41812\n",
       "Standard deviation                                   0.250575\n",
       "Sharpe ratio                                          21.6227"
      ]
     },
     "execution_count": 117,
     "metadata": {},
     "output_type": "execute_result"
    }
   ],
   "source": [
    "rd_results"
   ]
  },
  {
   "cell_type": "code",
   "execution_count": 122,
   "metadata": {},
   "outputs": [],
   "source": [
    "rd_df['Dates']=dates"
   ]
  },
  {
   "cell_type": "code",
   "execution_count": 124,
   "metadata": {},
   "outputs": [
    {
     "data": {
      "image/png": "[encoded data removed]",
      "text/plain": [
       "<matplotlib.figure.Figure at 0x1a44644908>"
      ]
     },
     "metadata": {},
     "output_type": "display_data"
    }
   ],
   "source": [
    "\n",
    "rd_df.plot(x = 'Dates',y = 'Returns', figsize = (20,10), grid =True, c='blue')\n",
    "plt.title('Portfolio returns over time for a contrarian startegy - 5th percentile')\n",
    "plt.xlabel('Months')\n",
    "plt.ylabel('Returns')\n",
    "plt.show()"
   ]
  }
 ],
 "metadata": {
  "kernelspec": {
   "display_name": "Python 3",
   "language": "python",
   "name": "python3"
  },
  "language_info": {
   "codemirror_mode": {
    "name": "ipython",
    "version": 3
   },
   "file_extension": ".py",
   "mimetype": "text/x-python",
   "name": "python",
   "nbconvert_exporter": "python",
   "pygments_lexer": "ipython3",
   "version": "3.6.3"
  }
 },
 "nbformat": 4,
 "nbformat_minor": 2
}
